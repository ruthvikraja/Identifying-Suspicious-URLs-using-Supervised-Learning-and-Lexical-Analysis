{
 "cells": [
  {
   "cell_type": "markdown",
   "metadata": {},
   "source": [
    "## ENGG* 6600 Security of Cyber Grids\n",
    "### Prof. Hadis Karimipour\n",
    "\n",
    "### Project Title - Identifying suspicious URLs using Supervised Learning and Lexical Analysis\n",
    "\n",
    "#### Coded by Ruthvik Raja M.V (1162634) and Debanjan Mitra (1126062)"
   ]
  },
  {
   "cell_type": "markdown",
   "metadata": {},
   "source": [
    "# Binary Classification using SVM\n",
    "## Imports"
   ]
  },
  {
   "cell_type": "code",
   "execution_count": 1,
   "metadata": {},
   "outputs": [],
   "source": [
    "import pandas as pd\n",
    "import numpy as np\n",
    "import time\n",
    "from sklearn.model_selection import train_test_split\n",
    "from sklearn.metrics import average_precision_score\n",
    "from sklearn.preprocessing import MinMaxScaler\n",
    "from sklearn.metrics import precision_recall_curve\n",
    "from sklearn.metrics import plot_precision_recall_curve\n",
    "import matplotlib.pyplot as plt\n",
    "from sklearn.utils import shuffle\n",
    "from sklearn.svm import SVC\n",
    "from sklearn import svm\n",
    "from sklearn.metrics import accuracy_score\n",
    "from sklearn.decomposition import PCA\n",
    "from sklearn.metrics import confusion_matrix\n",
    "from sklearn.metrics import classification_report"
   ]
  },
  {
   "cell_type": "markdown",
   "metadata": {},
   "source": [
    "## Loading Malware, Spam, Phishing and Defacement Datasets\n",
    "### Each Dataset also consists of Benign URL's"
   ]
  },
  {
   "cell_type": "code",
   "execution_count": 32,
   "metadata": {},
   "outputs": [],
   "source": [
    "malware=pd.read_csv(\"Dataset/Malware.csv\")\n",
    "spam=pd.read_csv(\"Dataset/Spam.csv\")\n",
    "phishing=pd.read_csv(\"Dataset/Phishing.csv\")\n",
    "defacement=pd.read_csv(\"Dataset/Defacement.csv\")"
   ]
  },
  {
   "cell_type": "markdown",
   "metadata": {},
   "source": [
    "### Data Cleaning: Strip whitespaces from the column names and drop NA values"
   ]
  },
  {
   "cell_type": "code",
   "execution_count": 33,
   "metadata": {},
   "outputs": [],
   "source": [
    "malware = malware.rename(str.strip, axis='columns')\n",
    "spam=spam.rename(str.strip, axis=\"columns\")\n",
    "phishing=phishing.rename(str.strip, axis=\"columns\")\n",
    "defacement=defacement.rename(str.strip, axis=\"columns\")"
   ]
  },
  {
   "cell_type": "code",
   "execution_count": 34,
   "metadata": {},
   "outputs": [
    {
     "name": "stdout",
     "output_type": "stream",
     "text": [
      "<class 'pandas.core.frame.DataFrame'>\n",
      "RangeIndex: 14493 entries, 0 to 14492\n",
      "Data columns (total 80 columns):\n",
      " #   Column                           Non-Null Count  Dtype  \n",
      "---  ------                           --------------  -----  \n",
      " 0   Querylength                      14493 non-null  int64  \n",
      " 1   domain_token_count               14493 non-null  int64  \n",
      " 2   path_token_count                 14493 non-null  int64  \n",
      " 3   avgdomaintokenlen                14493 non-null  float64\n",
      " 4   longdomaintokenlen               14493 non-null  int64  \n",
      " 5   avgpathtokenlen                  14482 non-null  float64\n",
      " 6   tld                              14493 non-null  int64  \n",
      " 7   charcompvowels                   14493 non-null  int64  \n",
      " 8   charcompace                      14493 non-null  int64  \n",
      " 9   ldl_url                          14493 non-null  int64  \n",
      " 10  ldl_domain                       14493 non-null  int64  \n",
      " 11  ldl_path                         14493 non-null  int64  \n",
      " 12  ldl_filename                     14493 non-null  int64  \n",
      " 13  ldl_getArg                       14493 non-null  int64  \n",
      " 14  dld_url                          14493 non-null  int64  \n",
      " 15  dld_domain                       14493 non-null  int64  \n",
      " 16  dld_path                         14493 non-null  int64  \n",
      " 17  dld_filename                     14493 non-null  int64  \n",
      " 18  dld_getArg                       14493 non-null  int64  \n",
      " 19  urlLen                           14493 non-null  int64  \n",
      " 20  domainlength                     14493 non-null  int64  \n",
      " 21  pathLength                       14493 non-null  int64  \n",
      " 22  subDirLen                        14493 non-null  int64  \n",
      " 23  fileNameLen                      14493 non-null  int64  \n",
      " 24  this.fileExtLen                  14493 non-null  int64  \n",
      " 25  ArgLen                           14493 non-null  int64  \n",
      " 26  pathurlRatio                     14493 non-null  float64\n",
      " 27  ArgUrlRatio                      14493 non-null  float64\n",
      " 28  argDomanRatio                    14493 non-null  float64\n",
      " 29  domainUrlRatio                   14493 non-null  float64\n",
      " 30  pathDomainRatio                  14493 non-null  float64\n",
      " 31  argPathRatio                     14493 non-null  float64\n",
      " 32  executable                       14493 non-null  int64  \n",
      " 33  isPortEighty                     14493 non-null  int64  \n",
      " 34  NumberofDotsinURL                14493 non-null  int64  \n",
      " 35  ISIpAddressInDomainName          14493 non-null  int64  \n",
      " 36  CharacterContinuityRate          14493 non-null  float64\n",
      " 37  LongestVariableValue             14493 non-null  int64  \n",
      " 38  URL_DigitCount                   14493 non-null  int64  \n",
      " 39  host_DigitCount                  14493 non-null  int64  \n",
      " 40  Directory_DigitCount             14493 non-null  int64  \n",
      " 41  File_name_DigitCount             14493 non-null  int64  \n",
      " 42  Extension_DigitCount             14493 non-null  int64  \n",
      " 43  Query_DigitCount                 14493 non-null  int64  \n",
      " 44  URL_Letter_Count                 14493 non-null  int64  \n",
      " 45  host_letter_count                14493 non-null  int64  \n",
      " 46  Directory_LetterCount            14493 non-null  int64  \n",
      " 47  Filename_LetterCount             14493 non-null  int64  \n",
      " 48  Extension_LetterCount            14493 non-null  int64  \n",
      " 49  Query_LetterCount                14493 non-null  int64  \n",
      " 50  LongestPathTokenLength           14493 non-null  int64  \n",
      " 51  Domain_LongestWordLength         14493 non-null  int64  \n",
      " 52  Path_LongestWordLength           14493 non-null  int64  \n",
      " 53  sub-Directory_LongestWordLength  14493 non-null  int64  \n",
      " 54  Arguments_LongestWordLength      14493 non-null  int64  \n",
      " 55  URL_sensitiveWord                14493 non-null  int64  \n",
      " 56  URLQueries_variable              14493 non-null  int64  \n",
      " 57  spcharUrl                        14493 non-null  int64  \n",
      " 58  delimeter_Domain                 14493 non-null  int64  \n",
      " 59  delimeter_path                   14493 non-null  int64  \n",
      " 60  delimeter_Count                  14493 non-null  int64  \n",
      " 61  NumberRate_URL                   14493 non-null  float64\n",
      " 62  NumberRate_Domain                14493 non-null  float64\n",
      " 63  NumberRate_DirectoryName         14492 non-null  float64\n",
      " 64  NumberRate_FileName              14492 non-null  float64\n",
      " 65  NumberRate_Extension             8566 non-null   float64\n",
      " 66  NumberRate_AfterPath             14492 non-null  float64\n",
      " 67  SymbolCount_URL                  14493 non-null  int64  \n",
      " 68  SymbolCount_Domain               14493 non-null  int64  \n",
      " 69  SymbolCount_Directoryname        14493 non-null  int64  \n",
      " 70  SymbolCount_FileName             14493 non-null  int64  \n",
      " 71  SymbolCount_Extension            14493 non-null  int64  \n",
      " 72  SymbolCount_Afterpath            14493 non-null  int64  \n",
      " 73  Entropy_URL                      14493 non-null  float64\n",
      " 74  Entropy_Domain                   14493 non-null  float64\n",
      " 75  Entropy_DirectoryName            12613 non-null  float64\n",
      " 76  Entropy_Filename                 14331 non-null  float64\n",
      " 77  Entropy_Extension                14487 non-null  float64\n",
      " 78  Entropy_Afterpath                14493 non-null  float64\n",
      " 79  URL_Type_obf_Type                14493 non-null  object \n",
      "dtypes: float64(21), int64(58), object(1)\n",
      "memory usage: 8.8+ MB\n"
     ]
    }
   ],
   "source": [
    "malware.info() # NumerRate_Extension values are missing for most of the rows"
   ]
  },
  {
   "cell_type": "code",
   "execution_count": 35,
   "metadata": {},
   "outputs": [
    {
     "name": "stdout",
     "output_type": "stream",
     "text": [
      "<class 'pandas.core.frame.DataFrame'>\n",
      "RangeIndex: 14479 entries, 0 to 14478\n",
      "Data columns (total 80 columns):\n",
      " #   Column                           Non-Null Count  Dtype  \n",
      "---  ------                           --------------  -----  \n",
      " 0   Querylength                      14479 non-null  int64  \n",
      " 1   domain_token_count               14479 non-null  int64  \n",
      " 2   path_token_count                 14479 non-null  int64  \n",
      " 3   avgdomaintokenlen                14479 non-null  float64\n",
      " 4   longdomaintokenlen               14479 non-null  int64  \n",
      " 5   avgpathtokenlen                  14467 non-null  float64\n",
      " 6   tld                              14479 non-null  int64  \n",
      " 7   charcompvowels                   14479 non-null  int64  \n",
      " 8   charcompace                      14479 non-null  int64  \n",
      " 9   ldl_url                          14479 non-null  int64  \n",
      " 10  ldl_domain                       14479 non-null  int64  \n",
      " 11  ldl_path                         14479 non-null  int64  \n",
      " 12  ldl_filename                     14479 non-null  int64  \n",
      " 13  ldl_getArg                       14479 non-null  int64  \n",
      " 14  dld_url                          14479 non-null  int64  \n",
      " 15  dld_domain                       14479 non-null  int64  \n",
      " 16  dld_path                         14479 non-null  int64  \n",
      " 17  dld_filename                     14479 non-null  int64  \n",
      " 18  dld_getArg                       14479 non-null  int64  \n",
      " 19  urlLen                           14479 non-null  int64  \n",
      " 20  domainlength                     14479 non-null  int64  \n",
      " 21  pathLength                       14479 non-null  int64  \n",
      " 22  subDirLen                        14479 non-null  int64  \n",
      " 23  fileNameLen                      14479 non-null  int64  \n",
      " 24  this.fileExtLen                  14479 non-null  int64  \n",
      " 25  ArgLen                           14479 non-null  int64  \n",
      " 26  pathurlRatio                     14479 non-null  float64\n",
      " 27  ArgUrlRatio                      14479 non-null  float64\n",
      " 28  argDomanRatio                    14479 non-null  float64\n",
      " 29  domainUrlRatio                   14479 non-null  float64\n",
      " 30  pathDomainRatio                  14479 non-null  float64\n",
      " 31  argPathRatio                     14479 non-null  float64\n",
      " 32  executable                       14479 non-null  int64  \n",
      " 33  isPortEighty                     14479 non-null  int64  \n",
      " 34  NumberofDotsinURL                14479 non-null  int64  \n",
      " 35  ISIpAddressInDomainName          14479 non-null  int64  \n",
      " 36  CharacterContinuityRate          14479 non-null  float64\n",
      " 37  LongestVariableValue             14479 non-null  int64  \n",
      " 38  URL_DigitCount                   14479 non-null  int64  \n",
      " 39  host_DigitCount                  14479 non-null  int64  \n",
      " 40  Directory_DigitCount             14479 non-null  int64  \n",
      " 41  File_name_DigitCount             14479 non-null  int64  \n",
      " 42  Extension_DigitCount             14479 non-null  int64  \n",
      " 43  Query_DigitCount                 14479 non-null  int64  \n",
      " 44  URL_Letter_Count                 14479 non-null  int64  \n",
      " 45  host_letter_count                14479 non-null  int64  \n",
      " 46  Directory_LetterCount            14479 non-null  int64  \n",
      " 47  Filename_LetterCount             14479 non-null  int64  \n",
      " 48  Extension_LetterCount            14479 non-null  int64  \n",
      " 49  Query_LetterCount                14479 non-null  int64  \n",
      " 50  LongestPathTokenLength           14479 non-null  int64  \n",
      " 51  Domain_LongestWordLength         14479 non-null  int64  \n",
      " 52  Path_LongestWordLength           14479 non-null  int64  \n",
      " 53  sub-Directory_LongestWordLength  14479 non-null  int64  \n",
      " 54  Arguments_LongestWordLength      14479 non-null  int64  \n",
      " 55  URL_sensitiveWord                14479 non-null  int64  \n",
      " 56  URLQueries_variable              14479 non-null  int64  \n",
      " 57  spcharUrl                        14479 non-null  int64  \n",
      " 58  delimeter_Domain                 14479 non-null  int64  \n",
      " 59  delimeter_path                   14479 non-null  int64  \n",
      " 60  delimeter_Count                  14479 non-null  int64  \n",
      " 61  NumberRate_URL                   14479 non-null  float64\n",
      " 62  NumberRate_Domain                14479 non-null  float64\n",
      " 63  NumberRate_DirectoryName         14479 non-null  float64\n",
      " 64  NumberRate_FileName              14479 non-null  float64\n",
      " 65  NumberRate_Extension             9597 non-null   float64\n",
      " 66  NumberRate_AfterPath             14478 non-null  float64\n",
      " 67  SymbolCount_URL                  14479 non-null  int64  \n",
      " 68  SymbolCount_Domain               14479 non-null  int64  \n",
      " 69  SymbolCount_Directoryname        14479 non-null  int64  \n",
      " 70  SymbolCount_FileName             14479 non-null  int64  \n",
      " 71  SymbolCount_Extension            14479 non-null  int64  \n",
      " 72  SymbolCount_Afterpath            14479 non-null  int64  \n",
      " 73  Entropy_URL                      14479 non-null  float64\n",
      " 74  Entropy_Domain                   14479 non-null  float64\n",
      " 75  Entropy_DirectoryName            12600 non-null  float64\n",
      " 76  Entropy_Filename                 14313 non-null  float64\n",
      " 77  Entropy_Extension                14476 non-null  float64\n",
      " 78  Entropy_Afterpath                14476 non-null  float64\n",
      " 79  URL_Type_obf_Type                14479 non-null  object \n",
      "dtypes: float64(21), int64(58), object(1)\n",
      "memory usage: 8.8+ MB\n"
     ]
    }
   ],
   "source": [
    "spam.info() # NumerRate_Extension values are missing for most of the rows"
   ]
  },
  {
   "cell_type": "code",
   "execution_count": 36,
   "metadata": {},
   "outputs": [
    {
     "name": "stdout",
     "output_type": "stream",
     "text": [
      "<class 'pandas.core.frame.DataFrame'>\n",
      "RangeIndex: 15367 entries, 0 to 15366\n",
      "Data columns (total 80 columns):\n",
      " #   Column                           Non-Null Count  Dtype  \n",
      "---  ------                           --------------  -----  \n",
      " 0   Querylength                      15367 non-null  int64  \n",
      " 1   domain_token_count               15367 non-null  int64  \n",
      " 2   path_token_count                 15367 non-null  int64  \n",
      " 3   avgdomaintokenlen                15367 non-null  float64\n",
      " 4   longdomaintokenlen               15367 non-null  int64  \n",
      " 5   avgpathtokenlen                  15096 non-null  float64\n",
      " 6   tld                              15367 non-null  int64  \n",
      " 7   charcompvowels                   15367 non-null  int64  \n",
      " 8   charcompace                      15367 non-null  int64  \n",
      " 9   ldl_url                          15367 non-null  int64  \n",
      " 10  ldl_domain                       15367 non-null  int64  \n",
      " 11  ldl_path                         15367 non-null  int64  \n",
      " 12  ldl_filename                     15367 non-null  int64  \n",
      " 13  ldl_getArg                       15367 non-null  int64  \n",
      " 14  dld_url                          15367 non-null  int64  \n",
      " 15  dld_domain                       15367 non-null  int64  \n",
      " 16  dld_path                         15367 non-null  int64  \n",
      " 17  dld_filename                     15367 non-null  int64  \n",
      " 18  dld_getArg                       15367 non-null  int64  \n",
      " 19  urlLen                           15367 non-null  int64  \n",
      " 20  domainlength                     15367 non-null  int64  \n",
      " 21  pathLength                       15367 non-null  int64  \n",
      " 22  subDirLen                        15367 non-null  int64  \n",
      " 23  fileNameLen                      15367 non-null  int64  \n",
      " 24  this.fileExtLen                  15367 non-null  int64  \n",
      " 25  ArgLen                           15367 non-null  int64  \n",
      " 26  pathurlRatio                     15367 non-null  float64\n",
      " 27  ArgUrlRatio                      15367 non-null  float64\n",
      " 28  argDomanRatio                    15367 non-null  float64\n",
      " 29  domainUrlRatio                   15367 non-null  float64\n",
      " 30  pathDomainRatio                  15367 non-null  float64\n",
      " 31  argPathRatio                     15367 non-null  float64\n",
      " 32  executable                       15367 non-null  int64  \n",
      " 33  isPortEighty                     15367 non-null  int64  \n",
      " 34  NumberofDotsinURL                15367 non-null  int64  \n",
      " 35  ISIpAddressInDomainName          15367 non-null  int64  \n",
      " 36  CharacterContinuityRate          15367 non-null  float64\n",
      " 37  LongestVariableValue             15367 non-null  int64  \n",
      " 38  URL_DigitCount                   15367 non-null  int64  \n",
      " 39  host_DigitCount                  15367 non-null  int64  \n",
      " 40  Directory_DigitCount             15367 non-null  int64  \n",
      " 41  File_name_DigitCount             15367 non-null  int64  \n",
      " 42  Extension_DigitCount             15367 non-null  int64  \n",
      " 43  Query_DigitCount                 15367 non-null  int64  \n",
      " 44  URL_Letter_Count                 15367 non-null  int64  \n",
      " 45  host_letter_count                15367 non-null  int64  \n",
      " 46  Directory_LetterCount            15367 non-null  int64  \n",
      " 47  Filename_LetterCount             15367 non-null  int64  \n",
      " 48  Extension_LetterCount            15367 non-null  int64  \n",
      " 49  Query_LetterCount                15367 non-null  int64  \n",
      " 50  LongestPathTokenLength           15367 non-null  int64  \n",
      " 51  Domain_LongestWordLength         15367 non-null  int64  \n",
      " 52  Path_LongestWordLength           15367 non-null  int64  \n",
      " 53  sub-Directory_LongestWordLength  15367 non-null  int64  \n",
      " 54  Arguments_LongestWordLength      15367 non-null  int64  \n",
      " 55  URL_sensitiveWord                15367 non-null  int64  \n",
      " 56  URLQueries_variable              15367 non-null  int64  \n",
      " 57  spcharUrl                        15367 non-null  int64  \n",
      " 58  delimeter_Domain                 15367 non-null  int64  \n",
      " 59  delimeter_path                   15367 non-null  int64  \n",
      " 60  delimeter_Count                  15367 non-null  int64  \n",
      " 61  NumberRate_URL                   15367 non-null  float64\n",
      " 62  NumberRate_Domain                15367 non-null  float64\n",
      " 63  NumberRate_DirectoryName         15358 non-null  float64\n",
      " 64  NumberRate_FileName              15358 non-null  float64\n",
      " 65  NumberRate_Extension             8012 non-null   float64\n",
      " 66  NumberRate_AfterPath             15364 non-null  float64\n",
      " 67  SymbolCount_URL                  15367 non-null  int64  \n",
      " 68  SymbolCount_Domain               15367 non-null  int64  \n",
      " 69  SymbolCount_Directoryname        15367 non-null  int64  \n",
      " 70  SymbolCount_FileName             15367 non-null  int64  \n",
      " 71  SymbolCount_Extension            15367 non-null  int64  \n",
      " 72  SymbolCount_Afterpath            15367 non-null  int64  \n",
      " 73  Entropy_URL                      15367 non-null  float64\n",
      " 74  Entropy_Domain                   15367 non-null  float64\n",
      " 75  Entropy_DirectoryName            13541 non-null  float64\n",
      " 76  Entropy_Filename                 15177 non-null  float64\n",
      " 77  Entropy_Extension                15364 non-null  float64\n",
      " 78  Entropy_Afterpath                15364 non-null  float64\n",
      " 79  URL_Type_obf_Type                15367 non-null  object \n",
      "dtypes: float64(21), int64(58), object(1)\n",
      "memory usage: 9.4+ MB\n"
     ]
    }
   ],
   "source": [
    "phishing.info() # NumerRate_Extension values are missing for most of the rows"
   ]
  },
  {
   "cell_type": "code",
   "execution_count": 37,
   "metadata": {},
   "outputs": [
    {
     "name": "stdout",
     "output_type": "stream",
     "text": [
      "<class 'pandas.core.frame.DataFrame'>\n",
      "RangeIndex: 15711 entries, 0 to 15710\n",
      "Data columns (total 80 columns):\n",
      " #   Column                           Non-Null Count  Dtype  \n",
      "---  ------                           --------------  -----  \n",
      " 0   Querylength                      15711 non-null  int64  \n",
      " 1   domain_token_count               15711 non-null  int64  \n",
      " 2   path_token_count                 15711 non-null  int64  \n",
      " 3   avgdomaintokenlen                15711 non-null  float64\n",
      " 4   longdomaintokenlen               15711 non-null  int64  \n",
      " 5   avgpathtokenlen                  15704 non-null  float64\n",
      " 6   tld                              15711 non-null  int64  \n",
      " 7   charcompvowels                   15711 non-null  int64  \n",
      " 8   charcompace                      15711 non-null  int64  \n",
      " 9   ldl_url                          15711 non-null  int64  \n",
      " 10  ldl_domain                       15711 non-null  int64  \n",
      " 11  ldl_path                         15711 non-null  int64  \n",
      " 12  ldl_filename                     15711 non-null  int64  \n",
      " 13  ldl_getArg                       15711 non-null  int64  \n",
      " 14  dld_url                          15711 non-null  int64  \n",
      " 15  dld_domain                       15711 non-null  int64  \n",
      " 16  dld_path                         15711 non-null  int64  \n",
      " 17  dld_filename                     15711 non-null  int64  \n",
      " 18  dld_getArg                       15711 non-null  int64  \n",
      " 19  urlLen                           15711 non-null  int64  \n",
      " 20  domainlength                     15711 non-null  int64  \n",
      " 21  pathLength                       15711 non-null  int64  \n",
      " 22  subDirLen                        15711 non-null  int64  \n",
      " 23  fileNameLen                      15711 non-null  int64  \n",
      " 24  this.fileExtLen                  15711 non-null  int64  \n",
      " 25  ArgLen                           15711 non-null  int64  \n",
      " 26  pathurlRatio                     15711 non-null  float64\n",
      " 27  ArgUrlRatio                      15711 non-null  float64\n",
      " 28  argDomanRatio                    15711 non-null  float64\n",
      " 29  domainUrlRatio                   15711 non-null  float64\n",
      " 30  pathDomainRatio                  15711 non-null  float64\n",
      " 31  argPathRatio                     15711 non-null  float64\n",
      " 32  executable                       15711 non-null  int64  \n",
      " 33  isPortEighty                     15711 non-null  int64  \n",
      " 34  NumberofDotsinURL                15711 non-null  int64  \n",
      " 35  ISIpAddressInDomainName          15711 non-null  int64  \n",
      " 36  CharacterContinuityRate          15711 non-null  float64\n",
      " 37  LongestVariableValue             15711 non-null  int64  \n",
      " 38  URL_DigitCount                   15711 non-null  int64  \n",
      " 39  host_DigitCount                  15711 non-null  int64  \n",
      " 40  Directory_DigitCount             15711 non-null  int64  \n",
      " 41  File_name_DigitCount             15711 non-null  int64  \n",
      " 42  Extension_DigitCount             15711 non-null  int64  \n",
      " 43  Query_DigitCount                 15711 non-null  int64  \n",
      " 44  URL_Letter_Count                 15711 non-null  int64  \n",
      " 45  host_letter_count                15711 non-null  int64  \n",
      " 46  Directory_LetterCount            15711 non-null  int64  \n",
      " 47  Filename_LetterCount             15711 non-null  int64  \n",
      " 48  Extension_LetterCount            15711 non-null  int64  \n",
      " 49  Query_LetterCount                15711 non-null  int64  \n",
      " 50  LongestPathTokenLength           15711 non-null  int64  \n",
      " 51  Domain_LongestWordLength         15711 non-null  int64  \n",
      " 52  Path_LongestWordLength           15711 non-null  int64  \n",
      " 53  sub-Directory_LongestWordLength  15711 non-null  int64  \n",
      " 54  Arguments_LongestWordLength      15711 non-null  int64  \n",
      " 55  URL_sensitiveWord                15711 non-null  int64  \n",
      " 56  URLQueries_variable              15711 non-null  int64  \n",
      " 57  spcharUrl                        15711 non-null  int64  \n",
      " 58  delimeter_Domain                 15711 non-null  int64  \n",
      " 59  delimeter_path                   15711 non-null  int64  \n",
      " 60  delimeter_Count                  15711 non-null  int64  \n",
      " 61  NumberRate_URL                   15711 non-null  float64\n",
      " 62  NumberRate_Domain                15711 non-null  float64\n",
      " 63  NumberRate_DirectoryName         15711 non-null  float64\n",
      " 64  NumberRate_FileName              15711 non-null  float64\n",
      " 65  NumberRate_Extension             10722 non-null  float64\n",
      " 66  NumberRate_AfterPath             15710 non-null  float64\n",
      " 67  SymbolCount_URL                  15711 non-null  int64  \n",
      " 68  SymbolCount_Domain               15711 non-null  int64  \n",
      " 69  SymbolCount_Directoryname        15711 non-null  int64  \n",
      " 70  SymbolCount_FileName             15711 non-null  int64  \n",
      " 71  SymbolCount_Extension            15711 non-null  int64  \n",
      " 72  SymbolCount_Afterpath            15711 non-null  int64  \n",
      " 73  Entropy_URL                      15711 non-null  float64\n",
      " 74  Entropy_Domain                   15711 non-null  float64\n",
      " 75  Entropy_DirectoryName            9654 non-null   float64\n",
      " 76  Entropy_Filename                 15516 non-null  float64\n",
      " 77  Entropy_Extension                15680 non-null  float64\n",
      " 78  Entropy_Afterpath                15711 non-null  float64\n",
      " 79  URL_Type_obf_Type                15711 non-null  object \n",
      "dtypes: float64(21), int64(58), object(1)\n",
      "memory usage: 9.6+ MB\n"
     ]
    }
   ],
   "source": [
    "defacement.info() # Entropy_DirectoryName and NumberRate_Extension values are missing for most of the rows"
   ]
  },
  {
   "cell_type": "markdown",
   "metadata": {},
   "source": [
    "## SVM [Using all the INPUT Features]:-"
   ]
  },
  {
   "cell_type": "markdown",
   "metadata": {},
   "source": [
    "### Malware and Benign\n",
    "### In Malware Dataset nearly 40% of values are NULL values in the NumberRate_Extension column"
   ]
  },
  {
   "cell_type": "code",
   "execution_count": 38,
   "metadata": {},
   "outputs": [
    {
     "name": "stdout",
     "output_type": "stream",
     "text": [
      "<class 'pandas.core.frame.DataFrame'>\n",
      "RangeIndex: 12442 entries, 0 to 12441\n",
      "Data columns (total 79 columns):\n",
      " #   Column                           Non-Null Count  Dtype  \n",
      "---  ------                           --------------  -----  \n",
      " 0   Querylength                      12442 non-null  int64  \n",
      " 1   domain_token_count               12442 non-null  int64  \n",
      " 2   path_token_count                 12442 non-null  int64  \n",
      " 3   avgdomaintokenlen                12442 non-null  float64\n",
      " 4   longdomaintokenlen               12442 non-null  int64  \n",
      " 5   avgpathtokenlen                  12442 non-null  float64\n",
      " 6   tld                              12442 non-null  int64  \n",
      " 7   charcompvowels                   12442 non-null  int64  \n",
      " 8   charcompace                      12442 non-null  int64  \n",
      " 9   ldl_url                          12442 non-null  int64  \n",
      " 10  ldl_domain                       12442 non-null  int64  \n",
      " 11  ldl_path                         12442 non-null  int64  \n",
      " 12  ldl_filename                     12442 non-null  int64  \n",
      " 13  ldl_getArg                       12442 non-null  int64  \n",
      " 14  dld_url                          12442 non-null  int64  \n",
      " 15  dld_domain                       12442 non-null  int64  \n",
      " 16  dld_path                         12442 non-null  int64  \n",
      " 17  dld_filename                     12442 non-null  int64  \n",
      " 18  dld_getArg                       12442 non-null  int64  \n",
      " 19  urlLen                           12442 non-null  int64  \n",
      " 20  domainlength                     12442 non-null  int64  \n",
      " 21  pathLength                       12442 non-null  int64  \n",
      " 22  subDirLen                        12442 non-null  int64  \n",
      " 23  fileNameLen                      12442 non-null  int64  \n",
      " 24  this.fileExtLen                  12442 non-null  int64  \n",
      " 25  ArgLen                           12442 non-null  int64  \n",
      " 26  pathurlRatio                     12442 non-null  float64\n",
      " 27  ArgUrlRatio                      12442 non-null  float64\n",
      " 28  argDomanRatio                    12442 non-null  float64\n",
      " 29  domainUrlRatio                   12442 non-null  float64\n",
      " 30  pathDomainRatio                  12442 non-null  float64\n",
      " 31  argPathRatio                     12442 non-null  float64\n",
      " 32  executable                       12442 non-null  int64  \n",
      " 33  isPortEighty                     12442 non-null  int64  \n",
      " 34  NumberofDotsinURL                12442 non-null  int64  \n",
      " 35  ISIpAddressInDomainName          12442 non-null  int64  \n",
      " 36  CharacterContinuityRate          12442 non-null  float64\n",
      " 37  LongestVariableValue             12442 non-null  int64  \n",
      " 38  URL_DigitCount                   12442 non-null  int64  \n",
      " 39  host_DigitCount                  12442 non-null  int64  \n",
      " 40  Directory_DigitCount             12442 non-null  int64  \n",
      " 41  File_name_DigitCount             12442 non-null  int64  \n",
      " 42  Extension_DigitCount             12442 non-null  int64  \n",
      " 43  Query_DigitCount                 12442 non-null  int64  \n",
      " 44  URL_Letter_Count                 12442 non-null  int64  \n",
      " 45  host_letter_count                12442 non-null  int64  \n",
      " 46  Directory_LetterCount            12442 non-null  int64  \n",
      " 47  Filename_LetterCount             12442 non-null  int64  \n",
      " 48  Extension_LetterCount            12442 non-null  int64  \n",
      " 49  Query_LetterCount                12442 non-null  int64  \n",
      " 50  LongestPathTokenLength           12442 non-null  int64  \n",
      " 51  Domain_LongestWordLength         12442 non-null  int64  \n",
      " 52  Path_LongestWordLength           12442 non-null  int64  \n",
      " 53  sub-Directory_LongestWordLength  12442 non-null  int64  \n",
      " 54  Arguments_LongestWordLength      12442 non-null  int64  \n",
      " 55  URL_sensitiveWord                12442 non-null  int64  \n",
      " 56  URLQueries_variable              12442 non-null  int64  \n",
      " 57  spcharUrl                        12442 non-null  int64  \n",
      " 58  delimeter_Domain                 12442 non-null  int64  \n",
      " 59  delimeter_path                   12442 non-null  int64  \n",
      " 60  delimeter_Count                  12442 non-null  int64  \n",
      " 61  NumberRate_URL                   12442 non-null  float64\n",
      " 62  NumberRate_Domain                12442 non-null  float64\n",
      " 63  NumberRate_DirectoryName         12442 non-null  float64\n",
      " 64  NumberRate_FileName              12442 non-null  float64\n",
      " 65  NumberRate_AfterPath             12442 non-null  float64\n",
      " 66  SymbolCount_URL                  12442 non-null  int64  \n",
      " 67  SymbolCount_Domain               12442 non-null  int64  \n",
      " 68  SymbolCount_Directoryname        12442 non-null  int64  \n",
      " 69  SymbolCount_FileName             12442 non-null  int64  \n",
      " 70  SymbolCount_Extension            12442 non-null  int64  \n",
      " 71  SymbolCount_Afterpath            12442 non-null  int64  \n",
      " 72  Entropy_URL                      12442 non-null  float64\n",
      " 73  Entropy_Domain                   12442 non-null  float64\n",
      " 74  Entropy_DirectoryName            12442 non-null  float64\n",
      " 75  Entropy_Filename                 12442 non-null  float64\n",
      " 76  Entropy_Extension                12442 non-null  float64\n",
      " 77  Entropy_Afterpath                12442 non-null  float64\n",
      " 78  URL_Type_obf_Type                12442 non-null  object \n",
      "dtypes: float64(20), int64(58), object(1)\n",
      "memory usage: 7.5+ MB\n"
     ]
    }
   ],
   "source": [
    "malware1=malware.drop([\"NumberRate_Extension\"], axis=1)\n",
    "malware1=malware1.dropna()\n",
    "malware1=shuffle(malware1)\n",
    "malware1=malware1.reset_index(drop=True)\n",
    "malware1.info()"
   ]
  },
  {
   "cell_type": "markdown",
   "metadata": {},
   "source": [
    "#### If URL_Type_obf_Type == \"malware\" [class label 0], else [class label 1]"
   ]
  },
  {
   "cell_type": "code",
   "execution_count": 39,
   "metadata": {},
   "outputs": [],
   "source": [
    "# Function to label the classes in a DataFrame\n",
    "def class_labels(class_name):\n",
    "    if(class_name==\"malware\"):\n",
    "        return 0\n",
    "    else:\n",
    "        return 1"
   ]
  },
  {
   "cell_type": "code",
   "execution_count": 40,
   "metadata": {},
   "outputs": [],
   "source": [
    "# Function for Data Scaling\n",
    "def dataset_scaling(dataset):\n",
    "        \n",
    "  # Scaling dataset\n",
    "  scaler = MinMaxScaler(feature_range=(0, 1)) # Scaling object for features \n",
    "  \n",
    "  df_X = dataset.loc[:, dataset.columns!=\"URL_Type_obf_Type\"]\n",
    "  df_Y = dataset[[\"URL_Type_obf_Type\"]]\n",
    "  \n",
    "  df_X = scaler.fit_transform(df_X)\n",
    "  dataset1=np.concatenate((df_X, df_Y), axis=1)\n",
    "  \n",
    "  return dataset1, scaler  \n",
    "\n",
    "malware1[\"URL_Type_obf_Type\"]=malware1[\"URL_Type_obf_Type\"].apply(lambda x:class_labels(x))\n",
    "malware_columns=malware1.columns\n",
    "malware2, scaler=dataset_scaling(malware1) # Scaling the Dataset\n",
    "malware2=pd.DataFrame(malware2,columns=malware_columns)"
   ]
  },
  {
   "cell_type": "markdown",
   "metadata": {},
   "source": [
    "#### Splitting the samples"
   ]
  },
  {
   "cell_type": "code",
   "execution_count": 41,
   "metadata": {},
   "outputs": [],
   "source": [
    "train_x, test_x, train_y, test_y=train_test_split(malware2.loc[:, malware2.columns!=\"URL_Type_obf_Type\"], malware2[\"URL_Type_obf_Type\"], random_state=0, test_size=0.25)"
   ]
  },
  {
   "cell_type": "code",
   "execution_count": 42,
   "metadata": {},
   "outputs": [
    {
     "name": "stdout",
     "output_type": "stream",
     "text": [
      "3.3093395233154297\n"
     ]
    }
   ],
   "source": [
    "# Machine Learning Models\n",
    "start = time.time()\n",
    "svm=SVC()\n",
    "svm.fit(train_x, train_y)\n",
    "y_score_malware = svm.decision_function(test_x)\n",
    "predicted_test=svm.predict(test_x)\n",
    "end = time.time()\n",
    "print((end-start)) # Prints Time taken by the Model to train and execute the samples in seconds"
   ]
  },
  {
   "cell_type": "code",
   "execution_count": 43,
   "metadata": {},
   "outputs": [],
   "source": [
    "# Predicting the Output\n",
    "predicted_train=svm.predict(train_x)"
   ]
  },
  {
   "cell_type": "code",
   "execution_count": 44,
   "metadata": {},
   "outputs": [
    {
     "data": {
      "text/plain": [
       "93.53905496624878"
      ]
     },
     "execution_count": 44,
     "metadata": {},
     "output_type": "execute_result"
    }
   ],
   "source": [
    "# Performance Metrics for Test Data\n",
    "accuracy_score(test_y, predicted_test) * 100 "
   ]
  },
  {
   "cell_type": "code",
   "execution_count": 45,
   "metadata": {},
   "outputs": [
    {
     "data": {
      "text/plain": [
       "93.6769906762405"
      ]
     },
     "execution_count": 45,
     "metadata": {},
     "output_type": "execute_result"
    }
   ],
   "source": [
    "# Performance Metrics for Train Data\n",
    "accuracy_score(train_y, predicted_train) * 100 "
   ]
  },
  {
   "cell_type": "code",
   "execution_count": 46,
   "metadata": {},
   "outputs": [
    {
     "name": "stdout",
     "output_type": "stream",
     "text": [
      "Confusion matrix : \n",
      " [[4853   59]\n",
      " [ 531 3888]]\n",
      "Outcome values : \n",
      " 4853 59 531 3888\n",
      "Classification report : \n",
      "               precision    recall  f1-score   support\n",
      "\n",
      "           1       0.90      0.99      0.94      4912\n",
      "           0       0.99      0.88      0.93      4419\n",
      "\n",
      "    accuracy                           0.94      9331\n",
      "   macro avg       0.94      0.93      0.94      9331\n",
      "weighted avg       0.94      0.94      0.94      9331\n",
      "\n"
     ]
    }
   ],
   "source": [
    "# confusion matrix\n",
    "matrix = confusion_matrix(train_y,predicted_train,labels=[1,0])\n",
    "print('Confusion matrix : \\n',matrix)\n",
    "\n",
    "# outcome values order in sklearn\n",
    "tp, fn, fp, tn = confusion_matrix(train_y,predicted_train,labels=[1,0]).reshape(-1)\n",
    "print('Outcome values : \\n', tp, fn, fp, tn)\n",
    "\n",
    "# classification report for precision, recall f1-score and accuracy\n",
    "matrix = classification_report(train_y,predicted_train,labels=[1,0])\n",
    "print('Classification report : \\n',matrix)"
   ]
  },
  {
   "cell_type": "code",
   "execution_count": 47,
   "metadata": {},
   "outputs": [
    {
     "data": {
      "text/plain": [
       "Text(0.5, 1.0, '2-class Precision-Recall curve: AP=0.98')"
      ]
     },
     "execution_count": 47,
     "metadata": {},
     "output_type": "execute_result"
    },
    {
     "data": {
      "image/png": "[encoded data removed]",
      "text/plain": [
       "<Figure size 432x288 with 1 Axes>"
      ]
     },
     "metadata": {
      "needs_background": "light"
     },
     "output_type": "display_data"
    }
   ],
   "source": [
    "average_precision = average_precision_score(test_y, y_score_malware)\n",
    "disp = plot_precision_recall_curve(svm, test_x, test_y)\n",
    "disp.ax_.set_title('2-class Precision-Recall curve: '\n",
    "                   'AP={0:0.2f}'.format(average_precision))"
   ]
  },
  {
   "cell_type": "markdown",
   "metadata": {},
   "source": [
    "### Spam and Benign "
   ]
  },
  {
   "cell_type": "code",
   "execution_count": 48,
   "metadata": {
    "scrolled": true
   },
   "outputs": [
    {
     "name": "stdout",
     "output_type": "stream",
     "text": [
      "<class 'pandas.core.frame.DataFrame'>\n",
      "RangeIndex: 12420 entries, 0 to 12419\n",
      "Data columns (total 79 columns):\n",
      " #   Column                           Non-Null Count  Dtype  \n",
      "---  ------                           --------------  -----  \n",
      " 0   Querylength                      12420 non-null  int64  \n",
      " 1   domain_token_count               12420 non-null  int64  \n",
      " 2   path_token_count                 12420 non-null  int64  \n",
      " 3   avgdomaintokenlen                12420 non-null  float64\n",
      " 4   longdomaintokenlen               12420 non-null  int64  \n",
      " 5   avgpathtokenlen                  12420 non-null  float64\n",
      " 6   tld                              12420 non-null  int64  \n",
      " 7   charcompvowels                   12420 non-null  int64  \n",
      " 8   charcompace                      12420 non-null  int64  \n",
      " 9   ldl_url                          12420 non-null  int64  \n",
      " 10  ldl_domain                       12420 non-null  int64  \n",
      " 11  ldl_path                         12420 non-null  int64  \n",
      " 12  ldl_filename                     12420 non-null  int64  \n",
      " 13  ldl_getArg                       12420 non-null  int64  \n",
      " 14  dld_url                          12420 non-null  int64  \n",
      " 15  dld_domain                       12420 non-null  int64  \n",
      " 16  dld_path                         12420 non-null  int64  \n",
      " 17  dld_filename                     12420 non-null  int64  \n",
      " 18  dld_getArg                       12420 non-null  int64  \n",
      " 19  urlLen                           12420 non-null  int64  \n",
      " 20  domainlength                     12420 non-null  int64  \n",
      " 21  pathLength                       12420 non-null  int64  \n",
      " 22  subDirLen                        12420 non-null  int64  \n",
      " 23  fileNameLen                      12420 non-null  int64  \n",
      " 24  this.fileExtLen                  12420 non-null  int64  \n",
      " 25  ArgLen                           12420 non-null  int64  \n",
      " 26  pathurlRatio                     12420 non-null  float64\n",
      " 27  ArgUrlRatio                      12420 non-null  float64\n",
      " 28  argDomanRatio                    12420 non-null  float64\n",
      " 29  domainUrlRatio                   12420 non-null  float64\n",
      " 30  pathDomainRatio                  12420 non-null  float64\n",
      " 31  argPathRatio                     12420 non-null  float64\n",
      " 32  executable                       12420 non-null  int64  \n",
      " 33  isPortEighty                     12420 non-null  int64  \n",
      " 34  NumberofDotsinURL                12420 non-null  int64  \n",
      " 35  ISIpAddressInDomainName          12420 non-null  int64  \n",
      " 36  CharacterContinuityRate          12420 non-null  float64\n",
      " 37  LongestVariableValue             12420 non-null  int64  \n",
      " 38  URL_DigitCount                   12420 non-null  int64  \n",
      " 39  host_DigitCount                  12420 non-null  int64  \n",
      " 40  Directory_DigitCount             12420 non-null  int64  \n",
      " 41  File_name_DigitCount             12420 non-null  int64  \n",
      " 42  Extension_DigitCount             12420 non-null  int64  \n",
      " 43  Query_DigitCount                 12420 non-null  int64  \n",
      " 44  URL_Letter_Count                 12420 non-null  int64  \n",
      " 45  host_letter_count                12420 non-null  int64  \n",
      " 46  Directory_LetterCount            12420 non-null  int64  \n",
      " 47  Filename_LetterCount             12420 non-null  int64  \n",
      " 48  Extension_LetterCount            12420 non-null  int64  \n",
      " 49  Query_LetterCount                12420 non-null  int64  \n",
      " 50  LongestPathTokenLength           12420 non-null  int64  \n",
      " 51  Domain_LongestWordLength         12420 non-null  int64  \n",
      " 52  Path_LongestWordLength           12420 non-null  int64  \n",
      " 53  sub-Directory_LongestWordLength  12420 non-null  int64  \n",
      " 54  Arguments_LongestWordLength      12420 non-null  int64  \n",
      " 55  URL_sensitiveWord                12420 non-null  int64  \n",
      " 56  URLQueries_variable              12420 non-null  int64  \n",
      " 57  spcharUrl                        12420 non-null  int64  \n",
      " 58  delimeter_Domain                 12420 non-null  int64  \n",
      " 59  delimeter_path                   12420 non-null  int64  \n",
      " 60  delimeter_Count                  12420 non-null  int64  \n",
      " 61  NumberRate_URL                   12420 non-null  float64\n",
      " 62  NumberRate_Domain                12420 non-null  float64\n",
      " 63  NumberRate_DirectoryName         12420 non-null  float64\n",
      " 64  NumberRate_FileName              12420 non-null  float64\n",
      " 65  NumberRate_AfterPath             12420 non-null  float64\n",
      " 66  SymbolCount_URL                  12420 non-null  int64  \n",
      " 67  SymbolCount_Domain               12420 non-null  int64  \n",
      " 68  SymbolCount_Directoryname        12420 non-null  int64  \n",
      " 69  SymbolCount_FileName             12420 non-null  int64  \n",
      " 70  SymbolCount_Extension            12420 non-null  int64  \n",
      " 71  SymbolCount_Afterpath            12420 non-null  int64  \n",
      " 72  Entropy_URL                      12420 non-null  float64\n",
      " 73  Entropy_Domain                   12420 non-null  float64\n",
      " 74  Entropy_DirectoryName            12420 non-null  float64\n",
      " 75  Entropy_Filename                 12420 non-null  float64\n",
      " 76  Entropy_Extension                12420 non-null  float64\n",
      " 77  Entropy_Afterpath                12420 non-null  float64\n",
      " 78  URL_Type_obf_Type                12420 non-null  object \n",
      "dtypes: float64(20), int64(58), object(1)\n",
      "memory usage: 7.5+ MB\n"
     ]
    }
   ],
   "source": [
    "# In Spam Dataset nearly 34% of values are NULL values in the NumberRate_Extension column\n",
    "spam1=spam.drop([\"NumberRate_Extension\"], axis=1)\n",
    "spam1=spam1.dropna()\n",
    "spam1=shuffle(spam1)\n",
    "spam1=spam1.reset_index(drop=True)\n",
    "spam1.info()"
   ]
  },
  {
   "cell_type": "markdown",
   "metadata": {},
   "source": [
    "#### If URL_Type_obf_Type == \"spam\" [class label 0], else [class label 1]"
   ]
  },
  {
   "cell_type": "code",
   "execution_count": 49,
   "metadata": {},
   "outputs": [],
   "source": [
    "# Function to label the classes in a DataFrame\n",
    "def class_labels_spam(class_name):\n",
    "    if(class_name==\"spam\"):\n",
    "        return 0\n",
    "    else:\n",
    "        return 1\n",
    "    \n",
    "spam1[\"URL_Type_obf_Type\"]=spam1[\"URL_Type_obf_Type\"].apply(lambda x:class_labels_spam(x))\n",
    "spam_columns=spam1.columns\n",
    "spam2, scaler=dataset_scaling(spam1) # Scaling the Dataset\n",
    "\n",
    "spam2=pd.DataFrame(spam2,columns=spam_columns)"
   ]
  },
  {
   "cell_type": "code",
   "execution_count": 50,
   "metadata": {},
   "outputs": [],
   "source": [
    "# Splitting the samples\n",
    "train_x, test_x, train_y, test_y=train_test_split(spam2.loc[:, spam2.columns!=\"URL_Type_obf_Type\"], spam2[\"URL_Type_obf_Type\"], random_state=0, test_size=0.25)"
   ]
  },
  {
   "cell_type": "code",
   "execution_count": 51,
   "metadata": {},
   "outputs": [
    {
     "name": "stdout",
     "output_type": "stream",
     "text": [
      "0.5718903541564941\n"
     ]
    }
   ],
   "source": [
    "# Machine Learning Models\n",
    "start = time.time()\n",
    "svm=SVC()\n",
    "svm.fit(train_x, train_y)\n",
    "predicted_test=svm.predict(test_x)\n",
    "y_score_spam = svm.decision_function(test_x)\n",
    "end = time.time()\n",
    "print((end-start)) # Prints Time taken by the Model to train and execute the samples in seconds"
   ]
  },
  {
   "cell_type": "code",
   "execution_count": 52,
   "metadata": {},
   "outputs": [],
   "source": [
    "# Predicting the Output\n",
    "predicted_train=svm.predict(train_x)"
   ]
  },
  {
   "cell_type": "code",
   "execution_count": 53,
   "metadata": {},
   "outputs": [
    {
     "data": {
      "text/plain": [
       "98.93719806763285"
      ]
     },
     "execution_count": 53,
     "metadata": {},
     "output_type": "execute_result"
    }
   ],
   "source": [
    "# Performance Metrics\n",
    "accuracy_score(test_y, predicted_test) * 100 # 98.93% for testing"
   ]
  },
  {
   "cell_type": "code",
   "execution_count": 54,
   "metadata": {},
   "outputs": [
    {
     "data": {
      "text/plain": [
       "99.11969940955449"
      ]
     },
     "execution_count": 54,
     "metadata": {},
     "output_type": "execute_result"
    }
   ],
   "source": [
    "accuracy_score(train_y, predicted_train) * 100 # 99.11% for training"
   ]
  },
  {
   "cell_type": "code",
   "execution_count": 55,
   "metadata": {},
   "outputs": [
    {
     "name": "stdout",
     "output_type": "stream",
     "text": [
      "Confusion matrix : \n",
      " [[4839   70]\n",
      " [  12 4394]]\n",
      "Outcome values : \n",
      " 4839 70 12 4394\n",
      "Classification report : \n",
      "               precision    recall  f1-score   support\n",
      "\n",
      "           1       1.00      0.99      0.99      4909\n",
      "           0       0.98      1.00      0.99      4406\n",
      "\n",
      "    accuracy                           0.99      9315\n",
      "   macro avg       0.99      0.99      0.99      9315\n",
      "weighted avg       0.99      0.99      0.99      9315\n",
      "\n"
     ]
    }
   ],
   "source": [
    "# confusion matrix\n",
    "matrix = confusion_matrix(train_y,predicted_train,labels=[1,0])\n",
    "print('Confusion matrix : \\n',matrix)\n",
    "\n",
    "# outcome values order in sklearn\n",
    "tp, fn, fp, tn = confusion_matrix(train_y,predicted_train,labels=[1,0]).reshape(-1)\n",
    "print('Outcome values : \\n', tp, fn, fp, tn)\n",
    "\n",
    "# classification report for precision, recall f1-score and accuracy\n",
    "matrix = classification_report(train_y,predicted_train,labels=[1,0])\n",
    "print('Classification report : \\n',matrix)"
   ]
  },
  {
   "cell_type": "code",
   "execution_count": 56,
   "metadata": {},
   "outputs": [
    {
     "data": {
      "text/plain": [
       "Text(0.5, 1.0, '2-class Precision-Recall curve: AP=1.00')"
      ]
     },
     "execution_count": 56,
     "metadata": {},
     "output_type": "execute_result"
    },
    {
     "data": {
      "image/png": "[encoded data removed]",
      "text/plain": [
       "<Figure size 432x288 with 1 Axes>"
      ]
     },
     "metadata": {
      "needs_background": "light"
     },
     "output_type": "display_data"
    }
   ],
   "source": [
    "average_precision = average_precision_score(test_y, y_score_spam)\n",
    "disp = plot_precision_recall_curve(svm, test_x, test_y)\n",
    "disp.ax_.set_title('2-class Precision-Recall curve: '\n",
    "                   'AP={0:0.2f}'.format(average_precision))\n"
   ]
  },
  {
   "cell_type": "markdown",
   "metadata": {},
   "source": [
    "### Phishing and Benign"
   ]
  },
  {
   "cell_type": "code",
   "execution_count": 57,
   "metadata": {},
   "outputs": [
    {
     "name": "stdout",
     "output_type": "stream",
     "text": [
      "<class 'pandas.core.frame.DataFrame'>\n",
      "RangeIndex: 13084 entries, 0 to 13083\n",
      "Data columns (total 79 columns):\n",
      " #   Column                           Non-Null Count  Dtype  \n",
      "---  ------                           --------------  -----  \n",
      " 0   Querylength                      13084 non-null  int64  \n",
      " 1   domain_token_count               13084 non-null  int64  \n",
      " 2   path_token_count                 13084 non-null  int64  \n",
      " 3   avgdomaintokenlen                13084 non-null  float64\n",
      " 4   longdomaintokenlen               13084 non-null  int64  \n",
      " 5   avgpathtokenlen                  13084 non-null  float64\n",
      " 6   tld                              13084 non-null  int64  \n",
      " 7   charcompvowels                   13084 non-null  int64  \n",
      " 8   charcompace                      13084 non-null  int64  \n",
      " 9   ldl_url                          13084 non-null  int64  \n",
      " 10  ldl_domain                       13084 non-null  int64  \n",
      " 11  ldl_path                         13084 non-null  int64  \n",
      " 12  ldl_filename                     13084 non-null  int64  \n",
      " 13  ldl_getArg                       13084 non-null  int64  \n",
      " 14  dld_url                          13084 non-null  int64  \n",
      " 15  dld_domain                       13084 non-null  int64  \n",
      " 16  dld_path                         13084 non-null  int64  \n",
      " 17  dld_filename                     13084 non-null  int64  \n",
      " 18  dld_getArg                       13084 non-null  int64  \n",
      " 19  urlLen                           13084 non-null  int64  \n",
      " 20  domainlength                     13084 non-null  int64  \n",
      " 21  pathLength                       13084 non-null  int64  \n",
      " 22  subDirLen                        13084 non-null  int64  \n",
      " 23  fileNameLen                      13084 non-null  int64  \n",
      " 24  this.fileExtLen                  13084 non-null  int64  \n",
      " 25  ArgLen                           13084 non-null  int64  \n",
      " 26  pathurlRatio                     13084 non-null  float64\n",
      " 27  ArgUrlRatio                      13084 non-null  float64\n",
      " 28  argDomanRatio                    13084 non-null  float64\n",
      " 29  domainUrlRatio                   13084 non-null  float64\n",
      " 30  pathDomainRatio                  13084 non-null  float64\n",
      " 31  argPathRatio                     13084 non-null  float64\n",
      " 32  executable                       13084 non-null  int64  \n",
      " 33  isPortEighty                     13084 non-null  int64  \n",
      " 34  NumberofDotsinURL                13084 non-null  int64  \n",
      " 35  ISIpAddressInDomainName          13084 non-null  int64  \n",
      " 36  CharacterContinuityRate          13084 non-null  float64\n",
      " 37  LongestVariableValue             13084 non-null  int64  \n",
      " 38  URL_DigitCount                   13084 non-null  int64  \n",
      " 39  host_DigitCount                  13084 non-null  int64  \n",
      " 40  Directory_DigitCount             13084 non-null  int64  \n",
      " 41  File_name_DigitCount             13084 non-null  int64  \n",
      " 42  Extension_DigitCount             13084 non-null  int64  \n",
      " 43  Query_DigitCount                 13084 non-null  int64  \n",
      " 44  URL_Letter_Count                 13084 non-null  int64  \n",
      " 45  host_letter_count                13084 non-null  int64  \n",
      " 46  Directory_LetterCount            13084 non-null  int64  \n",
      " 47  Filename_LetterCount             13084 non-null  int64  \n",
      " 48  Extension_LetterCount            13084 non-null  int64  \n",
      " 49  Query_LetterCount                13084 non-null  int64  \n",
      " 50  LongestPathTokenLength           13084 non-null  int64  \n",
      " 51  Domain_LongestWordLength         13084 non-null  int64  \n",
      " 52  Path_LongestWordLength           13084 non-null  int64  \n",
      " 53  sub-Directory_LongestWordLength  13084 non-null  int64  \n",
      " 54  Arguments_LongestWordLength      13084 non-null  int64  \n",
      " 55  URL_sensitiveWord                13084 non-null  int64  \n",
      " 56  URLQueries_variable              13084 non-null  int64  \n",
      " 57  spcharUrl                        13084 non-null  int64  \n",
      " 58  delimeter_Domain                 13084 non-null  int64  \n",
      " 59  delimeter_path                   13084 non-null  int64  \n",
      " 60  delimeter_Count                  13084 non-null  int64  \n",
      " 61  NumberRate_URL                   13084 non-null  float64\n",
      " 62  NumberRate_Domain                13084 non-null  float64\n",
      " 63  NumberRate_DirectoryName         13084 non-null  float64\n",
      " 64  NumberRate_FileName              13084 non-null  float64\n",
      " 65  NumberRate_AfterPath             13084 non-null  float64\n",
      " 66  SymbolCount_URL                  13084 non-null  int64  \n",
      " 67  SymbolCount_Domain               13084 non-null  int64  \n",
      " 68  SymbolCount_Directoryname        13084 non-null  int64  \n",
      " 69  SymbolCount_FileName             13084 non-null  int64  \n",
      " 70  SymbolCount_Extension            13084 non-null  int64  \n",
      " 71  SymbolCount_Afterpath            13084 non-null  int64  \n",
      " 72  Entropy_URL                      13084 non-null  float64\n",
      " 73  Entropy_Domain                   13084 non-null  float64\n",
      " 74  Entropy_DirectoryName            13084 non-null  float64\n",
      " 75  Entropy_Filename                 13084 non-null  float64\n",
      " 76  Entropy_Extension                13084 non-null  float64\n",
      " 77  Entropy_Afterpath                13084 non-null  float64\n",
      " 78  URL_Type_obf_Type                13084 non-null  object \n",
      "dtypes: float64(20), int64(58), object(1)\n",
      "memory usage: 7.9+ MB\n"
     ]
    }
   ],
   "source": [
    "# In Phishing Dataset nearly 48% of values are NULL values in the NumberRate_Extension column\n",
    "\n",
    "phishing1=phishing.drop([\"NumberRate_Extension\"], axis=1)\n",
    "phishing1=phishing1.dropna()\n",
    "phishing1=shuffle(phishing1)\n",
    "phishing1=phishing1.reset_index(drop=True)\n",
    "phishing1.info()"
   ]
  },
  {
   "cell_type": "markdown",
   "metadata": {},
   "source": [
    "#### If URL_Type_obf_Type == \"phishing\" [class label 0], else [class label 1]"
   ]
  },
  {
   "cell_type": "code",
   "execution_count": 58,
   "metadata": {},
   "outputs": [],
   "source": [
    "# Function to label the classes in a DataFrame\n",
    "def class_labels_phishing(class_name):\n",
    "    if(class_name==\"phishing\"):\n",
    "        return 0\n",
    "    else:\n",
    "        return 1"
   ]
  },
  {
   "cell_type": "code",
   "execution_count": 59,
   "metadata": {},
   "outputs": [],
   "source": [
    "phishing1[\"URL_Type_obf_Type\"]=phishing1[\"URL_Type_obf_Type\"].apply(lambda x:class_labels_phishing(x))\n",
    "phishing_columns=phishing1.columns\n",
    "phishing2, scaler=dataset_scaling(phishing1) # Scaling the Dataset\n",
    "phishing2=pd.DataFrame(phishing2,columns=phishing_columns)"
   ]
  },
  {
   "cell_type": "code",
   "execution_count": 60,
   "metadata": {},
   "outputs": [],
   "source": [
    "# Splitting the samples\n",
    "train_x, test_x, train_y, test_y=train_test_split(phishing2.loc[:, phishing2.columns!=\"URL_Type_obf_Type\"], phishing2[\"URL_Type_obf_Type\"], random_state=0, test_size=0.25)"
   ]
  },
  {
   "cell_type": "code",
   "execution_count": 61,
   "metadata": {},
   "outputs": [
    {
     "name": "stdout",
     "output_type": "stream",
     "text": [
      "2.3750665187835693\n"
     ]
    }
   ],
   "source": [
    "# Machine Learning Models\n",
    "start = time.time()\n",
    "svm=SVC()\n",
    "svm.fit(train_x, train_y)\n",
    "predicted_test=svm.predict(test_x)\n",
    "y_score_phising = svm.decision_function(test_x)\n",
    "end = time.time()\n",
    "print((end-start)) # Prints Time taken by the Model to train and execute the samples in seconds"
   ]
  },
  {
   "cell_type": "code",
   "execution_count": 62,
   "metadata": {},
   "outputs": [],
   "source": [
    "# Predicting the Output\n",
    "predicted_train=svm.predict(train_x)"
   ]
  },
  {
   "cell_type": "code",
   "execution_count": 63,
   "metadata": {},
   "outputs": [
    {
     "data": {
      "text/plain": [
       "95.29195964536838"
      ]
     },
     "execution_count": 63,
     "metadata": {},
     "output_type": "execute_result"
    }
   ],
   "source": [
    "# Performance Metrics\n",
    "accuracy_score(test_y, predicted_test) * 100 # 95.29% for testing"
   ]
  },
  {
   "cell_type": "code",
   "execution_count": 64,
   "metadata": {},
   "outputs": [
    {
     "data": {
      "text/plain": [
       "95.91358402119637"
      ]
     },
     "execution_count": 64,
     "metadata": {},
     "output_type": "execute_result"
    }
   ],
   "source": [
    "accuracy_score(train_y, predicted_train) * 100 # 95.91% for training"
   ]
  },
  {
   "cell_type": "code",
   "execution_count": 65,
   "metadata": {},
   "outputs": [
    {
     "name": "stdout",
     "output_type": "stream",
     "text": [
      "Confusion matrix : \n",
      " [[4786  136]\n",
      " [ 265 4626]]\n",
      "Outcome values : \n",
      " 4786 136 265 4626\n",
      "Classification report : \n",
      "               precision    recall  f1-score   support\n",
      "\n",
      "           1       0.95      0.97      0.96      4922\n",
      "           0       0.97      0.95      0.96      4891\n",
      "\n",
      "    accuracy                           0.96      9813\n",
      "   macro avg       0.96      0.96      0.96      9813\n",
      "weighted avg       0.96      0.96      0.96      9813\n",
      "\n"
     ]
    }
   ],
   "source": [
    "# confusion matrix\n",
    "matrix = confusion_matrix(train_y,predicted_train,labels=[1,0])\n",
    "print('Confusion matrix : \\n',matrix)\n",
    "\n",
    "# outcome values order in sklearn\n",
    "tp, fn, fp, tn = confusion_matrix(train_y,predicted_train,labels=[1,0]).reshape(-1)\n",
    "print('Outcome values : \\n', tp, fn, fp, tn)\n",
    "\n",
    "# classification report for precision, recall f1-score and accuracy\n",
    "matrix = classification_report(train_y,predicted_train,labels=[1,0])\n",
    "print('Classification report : \\n',matrix)"
   ]
  },
  {
   "cell_type": "code",
   "execution_count": 66,
   "metadata": {},
   "outputs": [
    {
     "data": {
      "text/plain": [
       "Text(0.5, 1.0, '2-class Precision-Recall curve: AP=0.99')"
      ]
     },
     "execution_count": 66,
     "metadata": {},
     "output_type": "execute_result"
    },
    {
     "data": {
      "image/png": "[encoded data removed]",
      "text/plain": [
       "<Figure size 432x288 with 1 Axes>"
      ]
     },
     "metadata": {
      "needs_background": "light"
     },
     "output_type": "display_data"
    }
   ],
   "source": [
    "average_precision = average_precision_score(test_y, y_score_phising)\n",
    "disp = plot_precision_recall_curve(svm, test_x, test_y)\n",
    "disp.ax_.set_title('2-class Precision-Recall curve: '\n",
    "                   'AP={0:0.2f}'.format(average_precision))"
   ]
  },
  {
   "cell_type": "markdown",
   "metadata": {},
   "source": [
    "### Defacement and Benign\n",
    "#### In Defacement Dataset nearly 39% of values are NULL values in the Entropy_DirectoryName and 32% of values are NULL values in the NumberRate_Extension column\n",
    "#### If we are using the dropna() on the Defacement Dataset, the number of rows falls from 15711 to 5186 rows but if we drop the above two columns and apply dropna() then the number of rows reduces from 15711 to 15477 so, better to drop the two columns"
   ]
  },
  {
   "cell_type": "code",
   "execution_count": 67,
   "metadata": {},
   "outputs": [
    {
     "name": "stdout",
     "output_type": "stream",
     "text": [
      "<class 'pandas.core.frame.DataFrame'>\n",
      "RangeIndex: 15477 entries, 0 to 15476\n",
      "Data columns (total 78 columns):\n",
      " #   Column                           Non-Null Count  Dtype  \n",
      "---  ------                           --------------  -----  \n",
      " 0   Querylength                      15477 non-null  int64  \n",
      " 1   domain_token_count               15477 non-null  int64  \n",
      " 2   path_token_count                 15477 non-null  int64  \n",
      " 3   avgdomaintokenlen                15477 non-null  float64\n",
      " 4   longdomaintokenlen               15477 non-null  int64  \n",
      " 5   avgpathtokenlen                  15477 non-null  float64\n",
      " 6   tld                              15477 non-null  int64  \n",
      " 7   charcompvowels                   15477 non-null  int64  \n",
      " 8   charcompace                      15477 non-null  int64  \n",
      " 9   ldl_url                          15477 non-null  int64  \n",
      " 10  ldl_domain                       15477 non-null  int64  \n",
      " 11  ldl_path                         15477 non-null  int64  \n",
      " 12  ldl_filename                     15477 non-null  int64  \n",
      " 13  ldl_getArg                       15477 non-null  int64  \n",
      " 14  dld_url                          15477 non-null  int64  \n",
      " 15  dld_domain                       15477 non-null  int64  \n",
      " 16  dld_path                         15477 non-null  int64  \n",
      " 17  dld_filename                     15477 non-null  int64  \n",
      " 18  dld_getArg                       15477 non-null  int64  \n",
      " 19  urlLen                           15477 non-null  int64  \n",
      " 20  domainlength                     15477 non-null  int64  \n",
      " 21  pathLength                       15477 non-null  int64  \n",
      " 22  subDirLen                        15477 non-null  int64  \n",
      " 23  fileNameLen                      15477 non-null  int64  \n",
      " 24  this.fileExtLen                  15477 non-null  int64  \n",
      " 25  ArgLen                           15477 non-null  int64  \n",
      " 26  pathurlRatio                     15477 non-null  float64\n",
      " 27  ArgUrlRatio                      15477 non-null  float64\n",
      " 28  argDomanRatio                    15477 non-null  float64\n",
      " 29  domainUrlRatio                   15477 non-null  float64\n",
      " 30  pathDomainRatio                  15477 non-null  float64\n",
      " 31  argPathRatio                     15477 non-null  float64\n",
      " 32  executable                       15477 non-null  int64  \n",
      " 33  isPortEighty                     15477 non-null  int64  \n",
      " 34  NumberofDotsinURL                15477 non-null  int64  \n",
      " 35  ISIpAddressInDomainName          15477 non-null  int64  \n",
      " 36  CharacterContinuityRate          15477 non-null  float64\n",
      " 37  LongestVariableValue             15477 non-null  int64  \n",
      " 38  URL_DigitCount                   15477 non-null  int64  \n",
      " 39  host_DigitCount                  15477 non-null  int64  \n",
      " 40  Directory_DigitCount             15477 non-null  int64  \n",
      " 41  File_name_DigitCount             15477 non-null  int64  \n",
      " 42  Extension_DigitCount             15477 non-null  int64  \n",
      " 43  Query_DigitCount                 15477 non-null  int64  \n",
      " 44  URL_Letter_Count                 15477 non-null  int64  \n",
      " 45  host_letter_count                15477 non-null  int64  \n",
      " 46  Directory_LetterCount            15477 non-null  int64  \n",
      " 47  Filename_LetterCount             15477 non-null  int64  \n",
      " 48  Extension_LetterCount            15477 non-null  int64  \n",
      " 49  Query_LetterCount                15477 non-null  int64  \n",
      " 50  LongestPathTokenLength           15477 non-null  int64  \n",
      " 51  Domain_LongestWordLength         15477 non-null  int64  \n",
      " 52  Path_LongestWordLength           15477 non-null  int64  \n",
      " 53  sub-Directory_LongestWordLength  15477 non-null  int64  \n",
      " 54  Arguments_LongestWordLength      15477 non-null  int64  \n",
      " 55  URL_sensitiveWord                15477 non-null  int64  \n",
      " 56  URLQueries_variable              15477 non-null  int64  \n",
      " 57  spcharUrl                        15477 non-null  int64  \n",
      " 58  delimeter_Domain                 15477 non-null  int64  \n",
      " 59  delimeter_path                   15477 non-null  int64  \n",
      " 60  delimeter_Count                  15477 non-null  int64  \n",
      " 61  NumberRate_URL                   15477 non-null  float64\n",
      " 62  NumberRate_Domain                15477 non-null  float64\n",
      " 63  NumberRate_DirectoryName         15477 non-null  float64\n",
      " 64  NumberRate_FileName              15477 non-null  float64\n",
      " 65  NumberRate_AfterPath             15477 non-null  float64\n",
      " 66  SymbolCount_URL                  15477 non-null  int64  \n",
      " 67  SymbolCount_Domain               15477 non-null  int64  \n",
      " 68  SymbolCount_Directoryname        15477 non-null  int64  \n",
      " 69  SymbolCount_FileName             15477 non-null  int64  \n",
      " 70  SymbolCount_Extension            15477 non-null  int64  \n",
      " 71  SymbolCount_Afterpath            15477 non-null  int64  \n",
      " 72  Entropy_URL                      15477 non-null  float64\n",
      " 73  Entropy_Domain                   15477 non-null  float64\n",
      " 74  Entropy_Filename                 15477 non-null  float64\n",
      " 75  Entropy_Extension                15477 non-null  float64\n",
      " 76  Entropy_Afterpath                15477 non-null  float64\n",
      " 77  URL_Type_obf_Type                15477 non-null  object \n",
      "dtypes: float64(19), int64(58), object(1)\n",
      "memory usage: 9.2+ MB\n"
     ]
    }
   ],
   "source": [
    "defacement1=defacement.drop([\"NumberRate_Extension\", \"Entropy_DirectoryName\"], axis=1)\n",
    "defacement1=defacement1.dropna()\n",
    "defacement1=shuffle(defacement1) \n",
    "defacement1=defacement1.reset_index(drop=True)\n",
    "defacement1.info()"
   ]
  },
  {
   "cell_type": "markdown",
   "metadata": {},
   "source": [
    "#### If URL_Type_obf_Type == \"Defacement\" [class label 0], else [class label 1]"
   ]
  },
  {
   "cell_type": "code",
   "execution_count": 68,
   "metadata": {},
   "outputs": [],
   "source": [
    "# Function to label the classes in a DataFrame\n",
    "def class_labels_defacement(class_name):\n",
    "    if(class_name==\"Defacement\"):\n",
    "        return 0\n",
    "    else:\n",
    "        return 1"
   ]
  },
  {
   "cell_type": "code",
   "execution_count": 69,
   "metadata": {},
   "outputs": [],
   "source": [
    "defacement1[\"URL_Type_obf_Type\"]=defacement1[\"URL_Type_obf_Type\"].apply(lambda x:class_labels_defacement(x))\n",
    "defacement_columns=defacement1.columns\n",
    "defacement2, scaler=dataset_scaling(defacement1) # Scaling the Dataset\n",
    "defacement2=pd.DataFrame(defacement2,columns=defacement_columns)"
   ]
  },
  {
   "cell_type": "code",
   "execution_count": 70,
   "metadata": {},
   "outputs": [],
   "source": [
    "# Splitting the samples\n",
    "train_x, test_x, train_y, test_y=train_test_split(defacement2.loc[:, defacement2.columns!=\"URL_Type_obf_Type\"], defacement2[\"URL_Type_obf_Type\"], random_state=0, test_size=0.25)"
   ]
  },
  {
   "cell_type": "code",
   "execution_count": 71,
   "metadata": {},
   "outputs": [
    {
     "name": "stdout",
     "output_type": "stream",
     "text": [
      "2.001386880874634\n"
     ]
    }
   ],
   "source": [
    "# Machine Learning Models\n",
    "start = time.time()\n",
    "svm=SVC()\n",
    "svm.fit(train_x, train_y)\n",
    "predicted_test=svm.predict(test_x)\n",
    "y_score_defacement = svm.decision_function(test_x)\n",
    "end = time.time()\n",
    "print((end-start)) # Prints Time taken by the Model to train and execute the samples in seconds"
   ]
  },
  {
   "cell_type": "code",
   "execution_count": 72,
   "metadata": {},
   "outputs": [],
   "source": [
    "# Predicting the Output\n",
    "predicted_train=svm.predict(train_x)"
   ]
  },
  {
   "cell_type": "code",
   "execution_count": 73,
   "metadata": {},
   "outputs": [
    {
     "data": {
      "text/plain": [
       "97.64857881136952"
      ]
     },
     "execution_count": 73,
     "metadata": {},
     "output_type": "execute_result"
    }
   ],
   "source": [
    "# Performance Metrics\n",
    "accuracy_score(test_y, predicted_test) * 100 # 97.64% for testing"
   ]
  },
  {
   "cell_type": "code",
   "execution_count": 74,
   "metadata": {},
   "outputs": [
    {
     "data": {
      "text/plain": [
       "97.92366675282157"
      ]
     },
     "execution_count": 74,
     "metadata": {},
     "output_type": "execute_result"
    }
   ],
   "source": [
    "accuracy_score(train_y, predicted_train) * 100 # 97.92% for training"
   ]
  },
  {
   "cell_type": "code",
   "execution_count": 75,
   "metadata": {},
   "outputs": [
    {
     "name": "stdout",
     "output_type": "stream",
     "text": [
      "Confusion matrix : \n",
      " [[5619   63]\n",
      " [ 178 5747]]\n",
      "Outcome values : \n",
      " 5619 63 178 5747\n",
      "Classification report : \n",
      "               precision    recall  f1-score   support\n",
      "\n",
      "           1       0.97      0.99      0.98      5682\n",
      "           0       0.99      0.97      0.98      5925\n",
      "\n",
      "    accuracy                           0.98     11607\n",
      "   macro avg       0.98      0.98      0.98     11607\n",
      "weighted avg       0.98      0.98      0.98     11607\n",
      "\n"
     ]
    }
   ],
   "source": [
    "# confusion matrix\n",
    "matrix = confusion_matrix(train_y,predicted_train,labels=[1,0])\n",
    "print('Confusion matrix : \\n',matrix)\n",
    "\n",
    "# outcome values order in sklearn\n",
    "tp, fn, fp, tn = confusion_matrix(train_y,predicted_train,labels=[1,0]).reshape(-1)\n",
    "print('Outcome values : \\n', tp, fn, fp, tn)\n",
    "\n",
    "# classification report for precision, recall f1-score and accuracy\n",
    "matrix = classification_report(train_y,predicted_train,labels=[1,0])\n",
    "print('Classification report : \\n',matrix)"
   ]
  },
  {
   "cell_type": "code",
   "execution_count": 76,
   "metadata": {},
   "outputs": [
    {
     "data": {
      "text/plain": [
       "Text(0.5, 1.0, '2-class Precision-Recall curve: AP=1.00')"
      ]
     },
     "execution_count": 76,
     "metadata": {},
     "output_type": "execute_result"
    },
    {
     "data": {
      "image/png": "[encoded data removed]",
      "text/plain": [
       "<Figure size 432x288 with 1 Axes>"
      ]
     },
     "metadata": {
      "needs_background": "light"
     },
     "output_type": "display_data"
    }
   ],
   "source": [
    "average_precision = average_precision_score(test_y, y_score_defacement)\n",
    "disp = plot_precision_recall_curve(svm, test_x, test_y)\n",
    "disp.ax_.set_title('2-class Precision-Recall curve: '\n",
    "                   'AP={0:0.2f}'.format(average_precision))"
   ]
  },
  {
   "cell_type": "markdown",
   "metadata": {},
   "source": [
    "### <---------------------- THE END -----------------------> ###"
   ]
  },
  {
   "cell_type": "code",
   "execution_count": null,
   "metadata": {},
   "outputs": [],
   "source": []
  }
 ],
 "metadata": {
  "kernelspec": {
   "display_name": "Python 3",
   "language": "python",
   "name": "python3"
  },
  "language_info": {
   "codemirror_mode": {
    "name": "ipython",
    "version": 3
   },
   "file_extension": ".py",
   "mimetype": "text/x-python",
   "name": "python",
   "nbconvert_exporter": "python",
   "pygments_lexer": "ipython3",
   "version": "3.8.5"
  }
 },
 "nbformat": 4,
 "nbformat_minor": 4
}
