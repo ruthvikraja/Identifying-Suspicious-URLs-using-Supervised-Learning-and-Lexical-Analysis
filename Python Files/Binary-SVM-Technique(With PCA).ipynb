{
 "cells": [
  {
   "cell_type": "markdown",
   "metadata": {},
   "source": [
    "## ENGG* 6600 Security of Cyber Grids\n",
    "### Prof. Hadis Karimipour\n",
    "\n",
    "### Project Title - Identifying suspicious URLs using Supervised Learning and Lexical Analysis\n",
    "\n",
    "#### Coded by Ruthvik Raja M.V (1162634) and Debanjan Mitra (1126062)"
   ]
  },
  {
   "cell_type": "markdown",
   "metadata": {},
   "source": [
    "## Binary Classifcation using PCA and Correlation Technique"
   ]
  },
  {
   "cell_type": "markdown",
   "metadata": {},
   "source": [
    "# Imports"
   ]
  },
  {
   "cell_type": "code",
   "execution_count": 1,
   "metadata": {},
   "outputs": [],
   "source": [
    "import pandas as pd\n",
    "import numpy as np\n",
    "import time\n",
    "from sklearn.model_selection import train_test_split\n",
    "from sklearn.model_selection import GridSearchCV\n",
    "from sklearn.preprocessing import MinMaxScaler\n",
    "from sklearn.utils import shuffle\n",
    "from sklearn.svm import SVC\n",
    "from sklearn import svm\n",
    "from sklearn.metrics import accuracy_score\n",
    "from sklearn.decomposition import PCA\n",
    "from sklearn.metrics import confusion_matrix\n",
    "from sklearn.metrics import classification_report\n",
    "from sklearn.metrics import precision_recall_curve\n",
    "from sklearn.metrics import plot_precision_recall_curve\n",
    "from sklearn.metrics import average_precision_score"
   ]
  },
  {
   "cell_type": "code",
   "execution_count": 2,
   "metadata": {},
   "outputs": [],
   "source": [
    "# Loading Malware, Spam, Phishing and Defacement Datasets\n",
    "# Each Dataset also consists of Benign URL's\n",
    "\n",
    "malware=pd.read_csv(\"Dataset/Malware.csv\")\n",
    "spam=pd.read_csv(\"Dataset/Spam.csv\")\n",
    "phishing=pd.read_csv(\"Dataset/Phishing.csv\")\n",
    "defacement=pd.read_csv(\"Dataset/Defacement.csv\")"
   ]
  },
  {
   "cell_type": "code",
   "execution_count": 3,
   "metadata": {},
   "outputs": [],
   "source": [
    "# Data Cleaning: Strip whitespaces from the column names and drop NA values\n",
    "\n",
    "malware = malware.rename(str.strip, axis='columns')\n",
    "spam=spam.rename(str.strip, axis=\"columns\")\n",
    "phishing=phishing.rename(str.strip, axis=\"columns\")\n",
    "defacement=defacement.rename(str.strip, axis=\"columns\")"
   ]
  },
  {
   "cell_type": "code",
   "execution_count": 4,
   "metadata": {},
   "outputs": [],
   "source": [
    "# Malware and Benign\n",
    "# In Malware Dataset nearly 40% of values are NULL values in the NumberRate_Extension column\n",
    "\n",
    "malware1=malware.drop([\"NumberRate_Extension\"], axis=1)\n",
    "malware1=malware1.dropna()\n",
    "malware1=shuffle(malware1)\n",
    "malware1=malware1.reset_index(drop=True)"
   ]
  },
  {
   "cell_type": "code",
   "execution_count": 5,
   "metadata": {},
   "outputs": [],
   "source": [
    "# If URL_Type_obf_Type == \"malware\" [class label 0], else [class label 1]\n",
    "\n",
    "# Function to label the classes in a DataFrame\n",
    "def class_labels_malware(class_name):\n",
    "    if(class_name==\"malware\"):\n",
    "        return 0\n",
    "    else:\n",
    "        return 1\n",
    "   \n",
    "# Function for Data Scaling\n",
    "def dataset_scaling(dataset):\n",
    "        \n",
    "  # Scaling dataset\n",
    "  scaler = MinMaxScaler(feature_range=(0, 1)) # Scaling object for features \n",
    "  \n",
    "  df_X = dataset.loc[:, dataset.columns!=\"URL_Type_obf_Type\"]\n",
    "  df_Y = dataset[[\"URL_Type_obf_Type\"]]\n",
    "  \n",
    "  df_X = scaler.fit_transform(df_X)\n",
    "  dataset1=np.concatenate((df_X, df_Y), axis=1)\n",
    "  \n",
    "  return dataset1, scaler    \n",
    "    \n",
    "# Function for appending the column indices with correlation value closer to 0\n",
    "def columns_lowcorr(corr, columns):\n",
    "    index_lowcorr=[]\n",
    "    for i in range(0, corr.shape[1]):\n",
    "        if((-0.1 < corr.iloc[-1,i] < 0.1) or (pd.isnull(corr.iloc[-1,i]))):\n",
    "            print(columns[-1],\"and\",columns[i],\"with Correlation\",round(corr.iloc[-1][i],2))\n",
    "            index_lowcorr.append(i)\n",
    "    return index_lowcorr        \n",
    "\n",
    "# Function for appending the features with high correlation\n",
    "def columns_highcorr(corr, columns):\n",
    "    index_highcorr=[]\n",
    "    for i in range(0, corr.shape[0]-1):\n",
    "        for j in range(i, corr.shape[1]-1):\n",
    "            if(0.8<=corr.iloc[i][j]<1):\n",
    "                print(columns[i],\"and\",columns[j],\"with Correlation\",round(corr.iloc[i][j],2))\n",
    "                if(i not in index_highcorr):\n",
    "                    index_highcorr.append(i);\n",
    "                 \n",
    "    return index_highcorr\n",
    "\n",
    "# Function to determine the final Index column indices with low and high correlation values\n",
    "def final_index(index_lowcorr, index_highcorr):\n",
    "    index=[]\n",
    "    for i in index_lowcorr:\n",
    "        if i not in index:\n",
    "            index.append(i)\n",
    "    for j in index_highcorr:\n",
    "        if j not in index:\n",
    "            index.append(j) \n",
    "    index.sort()\n",
    "    return index\n"
   ]
  },
  {
   "cell_type": "code",
   "execution_count": 6,
   "metadata": {},
   "outputs": [
    {
     "name": "stdout",
     "output_type": "stream",
     "text": [
      "<-----Features with Low Correlation Value----->\n",
      "URL_Type_obf_Type and Querylength with Correlation -0.09\n",
      "URL_Type_obf_Type and avgdomaintokenlen with Correlation -0.0\n",
      "URL_Type_obf_Type and avgpathtokenlen with Correlation 0.07\n",
      "URL_Type_obf_Type and ldl_filename with Correlation -0.04\n",
      "URL_Type_obf_Type and dld_domain with Correlation nan\n",
      "URL_Type_obf_Type and dld_filename with Correlation -0.01\n",
      "URL_Type_obf_Type and urlLen with Correlation 0.06\n",
      "URL_Type_obf_Type and fileNameLen with Correlation 0.02\n",
      "URL_Type_obf_Type and this.fileExtLen with Correlation 0.07\n",
      "URL_Type_obf_Type and argDomanRatio with Correlation -0.08\n",
      "URL_Type_obf_Type and executable with Correlation -0.07\n",
      "URL_Type_obf_Type and isPortEighty with Correlation -0.03\n",
      "URL_Type_obf_Type and ISIpAddressInDomainName with Correlation nan\n",
      "URL_Type_obf_Type and LongestVariableValue with Correlation -0.07\n",
      "URL_Type_obf_Type and Directory_DigitCount with Correlation 0.02\n",
      "URL_Type_obf_Type and File_name_DigitCount with Correlation -0.0\n",
      "URL_Type_obf_Type and Extension_DigitCount with Correlation -0.08\n",
      "URL_Type_obf_Type and Query_LetterCount with Correlation -0.07\n",
      "URL_Type_obf_Type and Domain_LongestWordLength with Correlation 0.02\n",
      "URL_Type_obf_Type and Path_LongestWordLength with Correlation -0.03\n",
      "URL_Type_obf_Type and sub-Directory_LongestWordLength with Correlation -0.02\n",
      "URL_Type_obf_Type and delimeter_Domain with Correlation 0.01\n",
      "URL_Type_obf_Type and NumberRate_DirectoryName with Correlation -0.03\n",
      "URL_Type_obf_Type and Entropy_DirectoryName with Correlation -0.09\n",
      "<---------------------------------------------->\n",
      "<-----Features with High Correlation Value----->\n",
      "Querylength and ArgLen with Correlation 0.85\n",
      "Querylength and LongestVariableValue with Correlation 0.95\n",
      "Querylength and Query_LetterCount with Correlation 0.94\n",
      "domain_token_count and SymbolCount_Domain with Correlation 1.0\n",
      "path_token_count and delimeter_path with Correlation 0.84\n",
      "avgdomaintokenlen and longdomaintokenlen with Correlation 0.93\n",
      "avgdomaintokenlen and Domain_LongestWordLength with Correlation 0.83\n",
      "longdomaintokenlen and host_letter_count with Correlation 0.83\n",
      "longdomaintokenlen and Domain_LongestWordLength with Correlation 0.87\n",
      "tld and SymbolCount_Domain with Correlation 1.0\n",
      "charcompvowels and charcompace with Correlation 0.85\n",
      "charcompvowels and pathLength with Correlation 0.81\n",
      "charcompvowels and subDirLen with Correlation 0.81\n",
      "charcompvowels and URL_Letter_Count with Correlation 0.88\n",
      "charcompace and URL_Letter_Count with Correlation 0.81\n",
      "ldl_url and ldl_path with Correlation 0.99\n",
      "ldl_url and dld_url with Correlation 0.88\n",
      "ldl_url and dld_path with Correlation 0.88\n",
      "ldl_path and dld_url with Correlation 0.9\n",
      "ldl_path and dld_path with Correlation 0.9\n",
      "ldl_filename and dld_filename with Correlation 0.87\n",
      "ldl_getArg and dld_getArg with Correlation 0.94\n",
      "urlLen and pathLength with Correlation 0.98\n",
      "urlLen and subDirLen with Correlation 0.98\n",
      "urlLen and URL_Letter_Count with Correlation 0.89\n",
      "domainlength and host_letter_count with Correlation 0.87\n",
      "pathLength and pathurlRatio with Correlation 0.81\n",
      "pathLength and URL_Letter_Count with Correlation 0.86\n",
      "subDirLen and pathurlRatio with Correlation 0.81\n",
      "subDirLen and URL_Letter_Count with Correlation 0.86\n",
      "ArgLen and ArgUrlRatio with Correlation 0.94\n",
      "ArgLen and argDomanRatio with Correlation 0.97\n",
      "ArgLen and argPathRatio with Correlation 0.91\n",
      "ArgLen and URLQueries_variable with Correlation 0.83\n",
      "ArgLen and delimeter_Count with Correlation 0.85\n",
      "ArgLen and SymbolCount_FileName with Correlation 0.86\n",
      "ArgLen and SymbolCount_Afterpath with Correlation 0.91\n",
      "pathurlRatio and pathDomainRatio with Correlation 0.86\n",
      "ArgUrlRatio and argDomanRatio with Correlation 0.92\n",
      "ArgUrlRatio and argPathRatio with Correlation 0.99\n",
      "ArgUrlRatio and URLQueries_variable with Correlation 0.83\n",
      "ArgUrlRatio and delimeter_Count with Correlation 0.86\n",
      "ArgUrlRatio and SymbolCount_FileName with Correlation 0.83\n",
      "ArgUrlRatio and SymbolCount_Afterpath with Correlation 0.86\n",
      "argDomanRatio and argPathRatio with Correlation 0.87\n",
      "argDomanRatio and delimeter_Count with Correlation 0.83\n",
      "argDomanRatio and SymbolCount_FileName with Correlation 0.85\n",
      "argDomanRatio and SymbolCount_Afterpath with Correlation 0.89\n",
      "argPathRatio and URLQueries_variable with Correlation 0.81\n",
      "argPathRatio and delimeter_Count with Correlation 0.83\n",
      "argPathRatio and SymbolCount_FileName with Correlation 0.8\n",
      "argPathRatio and SymbolCount_Afterpath with Correlation 0.83\n",
      "argPathRatio and Entropy_Afterpath with Correlation 0.81\n",
      "LongestVariableValue and Query_LetterCount with Correlation 0.9\n",
      "URL_DigitCount and NumberRate_URL with Correlation 0.94\n",
      "host_DigitCount and NumberRate_Domain with Correlation 0.97\n",
      "host_letter_count and Domain_LongestWordLength with Correlation 0.85\n",
      "Path_LongestWordLength and sub-Directory_LongestWordLength with Correlation 0.82\n",
      "URLQueries_variable and delimeter_Count with Correlation 0.98\n",
      "URLQueries_variable and SymbolCount_FileName with Correlation 0.86\n",
      "URLQueries_variable and SymbolCount_Afterpath with Correlation 0.91\n",
      "delimeter_Count and SymbolCount_FileName with Correlation 0.88\n",
      "delimeter_Count and SymbolCount_Extension with Correlation 0.81\n",
      "delimeter_Count and SymbolCount_Afterpath with Correlation 0.93\n",
      "NumberRate_DirectoryName and Entropy_DirectoryName with Correlation 0.83\n",
      "NumberRate_DirectoryName and Entropy_Filename with Correlation 0.82\n",
      "NumberRate_AfterPath and Entropy_Afterpath with Correlation 0.98\n",
      "SymbolCount_URL and SymbolCount_FileName with Correlation 0.82\n",
      "SymbolCount_URL and SymbolCount_Afterpath with Correlation 0.83\n",
      "SymbolCount_FileName and SymbolCount_Extension with Correlation 0.94\n",
      "SymbolCount_FileName and SymbolCount_Afterpath with Correlation 0.95\n",
      "SymbolCount_Extension and SymbolCount_Afterpath with Correlation 0.89\n",
      "Entropy_DirectoryName and Entropy_Filename with Correlation 0.97\n"
     ]
    },
    {
     "name": "stderr",
     "output_type": "stream",
     "text": [
      "C:\\Users\\deban\\anaconda3\\lib\\site-packages\\pandas\\core\\indexes\\base.py:4111: FutureWarning: Using a non-tuple sequence for multidimensional indexing is deprecated; use `arr[tuple(seq)]` instead of `arr[seq]`. In the future this will be interpreted as an array index, `arr[np.array(seq)]`, which will result either in an error or a different result.\n",
      "  result = getitem(key)\n"
     ]
    }
   ],
   "source": [
    "malware1[\"URL_Type_obf_Type\"]=malware1[\"URL_Type_obf_Type\"].apply(lambda x:class_labels_malware(x))\n",
    "malware_columns=malware1.columns\n",
    "\n",
    "corr=malware1.corr()\n",
    "\n",
    "# Removing all the columns with correlation almost equal to 0 ->\n",
    "# Which shows no impact on the O/P variable and the features with High Correlation      \n",
    "\n",
    "print(\"<-----Features with Low Correlation Value----->\") \n",
    "index_malware_lowcorr=columns_lowcorr(corr, malware_columns)\n",
    "print(\"<---------------------------------------------->\")\n",
    "print(\"<-----Features with High Correlation Value----->\")\n",
    "index_malware_highcorr=columns_highcorr(corr, malware_columns)\n",
    "index_malware=final_index(index_malware_lowcorr, index_malware_highcorr)\n",
    "\n",
    "malware3=malware1.drop(columns=malware_columns[[index_malware]])\n",
    "            \n",
    "malware2, scaler=dataset_scaling(malware3) # Scaling the Dataset\n",
    "\n",
    "malware2=pd.DataFrame(malware2,columns=malware3.columns)\n",
    "# After, performing scaling the output will be of type array so storing it as a DataFrame"
   ]
  },
  {
   "cell_type": "code",
   "execution_count": 7,
   "metadata": {},
   "outputs": [],
   "source": [
    "# Principal Component Analysis\n",
    "\n",
    "# Separating the input and output features\n",
    "X=malware2.loc[:, malware2.columns!=\"URL_Type_obf_Type\"]\n",
    "y=malware2[\"URL_Type_obf_Type\"]\n",
    "\n",
    "# Let's say, components = 10\n",
    "pca = PCA(n_components = 10)\n",
    "pca.fit(X)\n",
    "X_pca = pca.transform(X)"
   ]
  },
  {
   "cell_type": "code",
   "execution_count": 8,
   "metadata": {},
   "outputs": [],
   "source": [
    "# Splitting the samples\n",
    "train_x, test_x, train_y, test_y=train_test_split(X_pca, y, random_state=0, test_size=0.25)"
   ]
  },
  {
   "cell_type": "code",
   "execution_count": 9,
   "metadata": {},
   "outputs": [
    {
     "name": "stdout",
     "output_type": "stream",
     "text": [
      "0.9874966144561768\n"
     ]
    }
   ],
   "source": [
    "# Machine Learning Models\n",
    "start = time.time()\n",
    "svm=SVC()\n",
    "svm.fit(train_x, train_y)\n",
    "y_score_malware = svm.decision_function(test_x)\n",
    "predicted_test=svm.predict(test_x)\n",
    "end = time.time()\n",
    "print((end-start)) # Prints Time taken by the Model to train and execute the samples in seconds\n",
    " # Using PCA it took only 0.93 seconds"
   ]
  },
  {
   "cell_type": "code",
   "execution_count": 10,
   "metadata": {},
   "outputs": [],
   "source": [
    "# Predicting the Output\n",
    "predicted_train=svm.predict(train_x)"
   ]
  },
  {
   "cell_type": "code",
   "execution_count": 11,
   "metadata": {},
   "outputs": [
    {
     "data": {
      "text/plain": [
       "89.77820636451301"
      ]
     },
     "execution_count": 11,
     "metadata": {},
     "output_type": "execute_result"
    }
   ],
   "source": [
    "# Performance Metrics\n",
    "accuracy_score(test_y, predicted_test) * 100 # 89.77% for testing"
   ]
  },
  {
   "cell_type": "code",
   "execution_count": 12,
   "metadata": {},
   "outputs": [
    {
     "data": {
      "text/plain": [
       "90.31186368020576"
      ]
     },
     "execution_count": 12,
     "metadata": {},
     "output_type": "execute_result"
    }
   ],
   "source": [
    "accuracy_score(train_y, predicted_train) * 100 # 90.31% for training"
   ]
  },
  {
   "cell_type": "code",
   "execution_count": 13,
   "metadata": {},
   "outputs": [
    {
     "name": "stdout",
     "output_type": "stream",
     "text": [
      "Confusion matrix : \n",
      " [[4812  147]\n",
      " [ 757 3615]]\n",
      "Outcome values : \n",
      " 4812 147 757 3615\n",
      "Classification report : \n",
      "               precision    recall  f1-score   support\n",
      "\n",
      "           1       0.86      0.97      0.91      4959\n",
      "           0       0.96      0.83      0.89      4372\n",
      "\n",
      "    accuracy                           0.90      9331\n",
      "   macro avg       0.91      0.90      0.90      9331\n",
      "weighted avg       0.91      0.90      0.90      9331\n",
      "\n"
     ]
    }
   ],
   "source": [
    "# confusion matrix\n",
    "matrix = confusion_matrix(train_y,predicted_train,labels=[1,0])\n",
    "print('Confusion matrix : \\n',matrix)\n",
    "\n",
    "# outcome values order in sklearn\n",
    "tp, fn, fp, tn = confusion_matrix(train_y,predicted_train,labels=[1,0]).reshape(-1)\n",
    "print('Outcome values : \\n', tp, fn, fp, tn)\n",
    "\n",
    "# classification report for precision, recall f1-score and accuracy\n",
    "matrix = classification_report(train_y,predicted_train,labels=[1,0])\n",
    "print('Classification report : \\n',matrix)"
   ]
  },
  {
   "cell_type": "code",
   "execution_count": 14,
   "metadata": {},
   "outputs": [
    {
     "data": {
      "text/plain": [
       "Text(0.5, 1.0, '2-class Precision-Recall curve: AP=0.97')"
      ]
     },
     "execution_count": 14,
     "metadata": {},
     "output_type": "execute_result"
    },
    {
     "data": {
      "image/png": "[encoded data removed]",
      "text/plain": [
       "<Figure size 432x288 with 1 Axes>"
      ]
     },
     "metadata": {
      "needs_background": "light"
     },
     "output_type": "display_data"
    }
   ],
   "source": [
    "average_precision = average_precision_score(test_y, y_score_malware)\n",
    "disp = plot_precision_recall_curve(svm, test_x, test_y)\n",
    "disp.ax_.set_title('2-class Precision-Recall curve: '\n",
    "                   'AP={0:0.2f}'.format(average_precision))"
   ]
  },
  {
   "cell_type": "code",
   "execution_count": 15,
   "metadata": {},
   "outputs": [
    {
     "name": "stdout",
     "output_type": "stream",
     "text": [
      "<class 'pandas.core.frame.DataFrame'>\n",
      "RangeIndex: 12420 entries, 0 to 12419\n",
      "Data columns (total 79 columns):\n",
      " #   Column                           Non-Null Count  Dtype  \n",
      "---  ------                           --------------  -----  \n",
      " 0   Querylength                      12420 non-null  int64  \n",
      " 1   domain_token_count               12420 non-null  int64  \n",
      " 2   path_token_count                 12420 non-null  int64  \n",
      " 3   avgdomaintokenlen                12420 non-null  float64\n",
      " 4   longdomaintokenlen               12420 non-null  int64  \n",
      " 5   avgpathtokenlen                  12420 non-null  float64\n",
      " 6   tld                              12420 non-null  int64  \n",
      " 7   charcompvowels                   12420 non-null  int64  \n",
      " 8   charcompace                      12420 non-null  int64  \n",
      " 9   ldl_url                          12420 non-null  int64  \n",
      " 10  ldl_domain                       12420 non-null  int64  \n",
      " 11  ldl_path                         12420 non-null  int64  \n",
      " 12  ldl_filename                     12420 non-null  int64  \n",
      " 13  ldl_getArg                       12420 non-null  int64  \n",
      " 14  dld_url                          12420 non-null  int64  \n",
      " 15  dld_domain                       12420 non-null  int64  \n",
      " 16  dld_path                         12420 non-null  int64  \n",
      " 17  dld_filename                     12420 non-null  int64  \n",
      " 18  dld_getArg                       12420 non-null  int64  \n",
      " 19  urlLen                           12420 non-null  int64  \n",
      " 20  domainlength                     12420 non-null  int64  \n",
      " 21  pathLength                       12420 non-null  int64  \n",
      " 22  subDirLen                        12420 non-null  int64  \n",
      " 23  fileNameLen                      12420 non-null  int64  \n",
      " 24  this.fileExtLen                  12420 non-null  int64  \n",
      " 25  ArgLen                           12420 non-null  int64  \n",
      " 26  pathurlRatio                     12420 non-null  float64\n",
      " 27  ArgUrlRatio                      12420 non-null  float64\n",
      " 28  argDomanRatio                    12420 non-null  float64\n",
      " 29  domainUrlRatio                   12420 non-null  float64\n",
      " 30  pathDomainRatio                  12420 non-null  float64\n",
      " 31  argPathRatio                     12420 non-null  float64\n",
      " 32  executable                       12420 non-null  int64  \n",
      " 33  isPortEighty                     12420 non-null  int64  \n",
      " 34  NumberofDotsinURL                12420 non-null  int64  \n",
      " 35  ISIpAddressInDomainName          12420 non-null  int64  \n",
      " 36  CharacterContinuityRate          12420 non-null  float64\n",
      " 37  LongestVariableValue             12420 non-null  int64  \n",
      " 38  URL_DigitCount                   12420 non-null  int64  \n",
      " 39  host_DigitCount                  12420 non-null  int64  \n",
      " 40  Directory_DigitCount             12420 non-null  int64  \n",
      " 41  File_name_DigitCount             12420 non-null  int64  \n",
      " 42  Extension_DigitCount             12420 non-null  int64  \n",
      " 43  Query_DigitCount                 12420 non-null  int64  \n",
      " 44  URL_Letter_Count                 12420 non-null  int64  \n",
      " 45  host_letter_count                12420 non-null  int64  \n",
      " 46  Directory_LetterCount            12420 non-null  int64  \n",
      " 47  Filename_LetterCount             12420 non-null  int64  \n",
      " 48  Extension_LetterCount            12420 non-null  int64  \n",
      " 49  Query_LetterCount                12420 non-null  int64  \n",
      " 50  LongestPathTokenLength           12420 non-null  int64  \n",
      " 51  Domain_LongestWordLength         12420 non-null  int64  \n",
      " 52  Path_LongestWordLength           12420 non-null  int64  \n",
      " 53  sub-Directory_LongestWordLength  12420 non-null  int64  \n",
      " 54  Arguments_LongestWordLength      12420 non-null  int64  \n",
      " 55  URL_sensitiveWord                12420 non-null  int64  \n",
      " 56  URLQueries_variable              12420 non-null  int64  \n",
      " 57  spcharUrl                        12420 non-null  int64  \n",
      " 58  delimeter_Domain                 12420 non-null  int64  \n",
      " 59  delimeter_path                   12420 non-null  int64  \n",
      " 60  delimeter_Count                  12420 non-null  int64  \n",
      " 61  NumberRate_URL                   12420 non-null  float64\n",
      " 62  NumberRate_Domain                12420 non-null  float64\n",
      " 63  NumberRate_DirectoryName         12420 non-null  float64\n",
      " 64  NumberRate_FileName              12420 non-null  float64\n",
      " 65  NumberRate_AfterPath             12420 non-null  float64\n",
      " 66  SymbolCount_URL                  12420 non-null  int64  \n",
      " 67  SymbolCount_Domain               12420 non-null  int64  \n",
      " 68  SymbolCount_Directoryname        12420 non-null  int64  \n",
      " 69  SymbolCount_FileName             12420 non-null  int64  \n",
      " 70  SymbolCount_Extension            12420 non-null  int64  \n",
      " 71  SymbolCount_Afterpath            12420 non-null  int64  \n",
      " 72  Entropy_URL                      12420 non-null  float64\n",
      " 73  Entropy_Domain                   12420 non-null  float64\n",
      " 74  Entropy_DirectoryName            12420 non-null  float64\n",
      " 75  Entropy_Filename                 12420 non-null  float64\n",
      " 76  Entropy_Extension                12420 non-null  float64\n",
      " 77  Entropy_Afterpath                12420 non-null  float64\n",
      " 78  URL_Type_obf_Type                12420 non-null  object \n",
      "dtypes: float64(20), int64(58), object(1)\n",
      "memory usage: 7.5+ MB\n"
     ]
    }
   ],
   "source": [
    "# Spam and Benign \n",
    "# In Spam Dataset nearly 34% of values are NULL values in the NumberRate_Extension column\n",
    "\n",
    "spam1=spam.drop([\"NumberRate_Extension\"], axis=1)\n",
    "spam1=spam1.dropna()\n",
    "spam1=shuffle(spam1)\n",
    "spam1=spam1.reset_index(drop=True)\n",
    "spam1.info()"
   ]
  },
  {
   "cell_type": "code",
   "execution_count": 16,
   "metadata": {},
   "outputs": [],
   "source": [
    "# If URL_Type_obf_Type == \"spam\" [class label 0], else [class label 1]\n",
    "\n",
    "# Function to label the classes in a DataFrame\n",
    "def class_labels_spam(class_name):\n",
    "    if(class_name==\"spam\"):\n",
    "        return 0\n",
    "    else:\n",
    "        return 1\n",
    "    \n",
    "spam1[\"URL_Type_obf_Type\"]=spam1[\"URL_Type_obf_Type\"].apply(lambda x:class_labels_spam(x))\n",
    "spam_columns=spam1.columns\n",
    "\n",
    "corr=spam1.corr()"
   ]
  },
  {
   "cell_type": "code",
   "execution_count": 17,
   "metadata": {},
   "outputs": [
    {
     "name": "stdout",
     "output_type": "stream",
     "text": [
      "<-----Features with Low Correlation Value----->\n",
      "URL_Type_obf_Type and path_token_count with Correlation 0.1\n",
      "URL_Type_obf_Type and avgpathtokenlen with Correlation 0.09\n",
      "URL_Type_obf_Type and dld_domain with Correlation nan\n",
      "URL_Type_obf_Type and dld_filename with Correlation 0.1\n",
      "URL_Type_obf_Type and this.fileExtLen with Correlation 0.03\n",
      "URL_Type_obf_Type and pathurlRatio with Correlation 0.04\n",
      "URL_Type_obf_Type and executable with Correlation nan\n",
      "URL_Type_obf_Type and isPortEighty with Correlation nan\n",
      "URL_Type_obf_Type and ISIpAddressInDomainName with Correlation nan\n",
      "URL_Type_obf_Type and host_DigitCount with Correlation -0.01\n",
      "URL_Type_obf_Type and Directory_DigitCount with Correlation 0.1\n",
      "URL_Type_obf_Type and Directory_LetterCount with Correlation -0.09\n",
      "URL_Type_obf_Type and Path_LongestWordLength with Correlation 0.02\n",
      "URL_Type_obf_Type and sub-Directory_LongestWordLength with Correlation -0.02\n",
      "URL_Type_obf_Type and URL_sensitiveWord with Correlation -0.08\n",
      "URL_Type_obf_Type and spcharUrl with Correlation -0.01\n",
      "URL_Type_obf_Type and NumberRate_Domain with Correlation 0.06\n",
      "URL_Type_obf_Type and NumberRate_DirectoryName with Correlation -0.06\n",
      "URL_Type_obf_Type and Entropy_URL with Correlation -0.07\n",
      "<---------------------------------------------->\n",
      "<-----Features with High Correlation Value----->\n",
      "Querylength and charcompvowels with Correlation 0.89\n",
      "Querylength and charcompace with Correlation 0.91\n",
      "Querylength and ldl_url with Correlation 0.99\n",
      "Querylength and ldl_path with Correlation 0.99\n",
      "Querylength and ldl_getArg with Correlation 0.99\n",
      "Querylength and urlLen with Correlation 0.98\n",
      "Querylength and pathLength with Correlation 0.98\n",
      "Querylength and subDirLen with Correlation 0.98\n",
      "Querylength and ArgLen with Correlation 0.99\n",
      "Querylength and argDomanRatio with Correlation 0.99\n",
      "Querylength and pathDomainRatio with Correlation 0.96\n",
      "Querylength and LongestVariableValue with Correlation 1.0\n",
      "Querylength and URL_DigitCount with Correlation 0.93\n",
      "Querylength and Extension_DigitCount with Correlation 0.93\n",
      "Querylength and Query_DigitCount with Correlation 0.97\n",
      "Querylength and URL_Letter_Count with Correlation 0.99\n",
      "Querylength and Extension_LetterCount with Correlation 0.99\n",
      "Querylength and Query_LetterCount with Correlation 1.0\n",
      "Querylength and LongestPathTokenLength with Correlation 0.99\n",
      "avgdomaintokenlen and longdomaintokenlen with Correlation 0.86\n",
      "longdomaintokenlen and host_letter_count with Correlation 0.82\n",
      "longdomaintokenlen and Domain_LongestWordLength with Correlation 0.92\n",
      "charcompvowels and charcompace with Correlation 0.97\n",
      "charcompvowels and ldl_url with Correlation 0.89\n",
      "charcompvowels and ldl_path with Correlation 0.89\n",
      "charcompvowels and ldl_getArg with Correlation 0.89\n",
      "charcompvowels and urlLen with Correlation 0.94\n",
      "charcompvowels and pathLength with Correlation 0.95\n",
      "charcompvowels and subDirLen with Correlation 0.95\n",
      "charcompvowels and ArgLen with Correlation 0.9\n",
      "charcompvowels and argDomanRatio with Correlation 0.9\n",
      "charcompvowels and pathDomainRatio with Correlation 0.94\n",
      "charcompvowels and LongestVariableValue with Correlation 0.88\n",
      "charcompvowels and URL_DigitCount with Correlation 0.86\n",
      "charcompvowels and Extension_DigitCount with Correlation 0.86\n",
      "charcompvowels and Query_DigitCount with Correlation 0.84\n",
      "charcompvowels and URL_Letter_Count with Correlation 0.94\n",
      "charcompvowels and Extension_LetterCount with Correlation 0.91\n",
      "charcompvowels and Query_LetterCount with Correlation 0.89\n",
      "charcompvowels and LongestPathTokenLength with Correlation 0.93\n",
      "charcompace and ldl_url with Correlation 0.92\n",
      "charcompace and ldl_path with Correlation 0.92\n",
      "charcompace and ldl_getArg with Correlation 0.92\n",
      "charcompace and urlLen with Correlation 0.96\n",
      "charcompace and pathLength with Correlation 0.96\n",
      "charcompace and subDirLen with Correlation 0.96\n",
      "charcompace and ArgLen with Correlation 0.94\n",
      "charcompace and argDomanRatio with Correlation 0.93\n",
      "charcompace and pathDomainRatio with Correlation 0.94\n",
      "charcompace and LongestVariableValue with Correlation 0.91\n",
      "charcompace and URL_DigitCount with Correlation 0.91\n",
      "charcompace and Extension_DigitCount with Correlation 0.91\n",
      "charcompace and Query_DigitCount with Correlation 0.88\n",
      "charcompace and URL_Letter_Count with Correlation 0.96\n",
      "charcompace and Extension_LetterCount with Correlation 0.93\n",
      "charcompace and Query_LetterCount with Correlation 0.91\n",
      "charcompace and LongestPathTokenLength with Correlation 0.94\n",
      "ldl_url and ldl_path with Correlation 1.0\n",
      "ldl_url and ldl_getArg with Correlation 1.0\n",
      "ldl_url and dld_url with Correlation 0.82\n",
      "ldl_url and dld_path with Correlation 0.82\n",
      "ldl_url and dld_getArg with Correlation 0.84\n",
      "ldl_url and urlLen with Correlation 0.98\n",
      "ldl_url and pathLength with Correlation 0.98\n",
      "ldl_url and subDirLen with Correlation 0.98\n",
      "ldl_url and ArgLen with Correlation 0.99\n",
      "ldl_url and argDomanRatio with Correlation 0.99\n",
      "ldl_url and pathDomainRatio with Correlation 0.96\n",
      "ldl_url and LongestVariableValue with Correlation 0.99\n",
      "ldl_url and URL_DigitCount with Correlation 0.95\n",
      "ldl_url and Extension_DigitCount with Correlation 0.95\n",
      "ldl_url and Query_DigitCount with Correlation 0.97\n",
      "ldl_url and URL_Letter_Count with Correlation 0.98\n",
      "ldl_url and Extension_LetterCount with Correlation 0.98\n",
      "ldl_url and Query_LetterCount with Correlation 0.99\n",
      "ldl_url and LongestPathTokenLength with Correlation 0.98\n",
      "ldl_path and ldl_getArg with Correlation 1.0\n",
      "ldl_path and dld_url with Correlation 0.82\n",
      "ldl_path and dld_path with Correlation 0.82\n",
      "ldl_path and dld_getArg with Correlation 0.84\n",
      "ldl_path and urlLen with Correlation 0.98\n",
      "ldl_path and pathLength with Correlation 0.98\n",
      "ldl_path and subDirLen with Correlation 0.98\n",
      "ldl_path and ArgLen with Correlation 0.99\n",
      "ldl_path and argDomanRatio with Correlation 0.99\n",
      "ldl_path and pathDomainRatio with Correlation 0.96\n",
      "ldl_path and LongestVariableValue with Correlation 0.99\n",
      "ldl_path and URL_DigitCount with Correlation 0.95\n",
      "ldl_path and Extension_DigitCount with Correlation 0.95\n",
      "ldl_path and Query_DigitCount with Correlation 0.97\n",
      "ldl_path and URL_Letter_Count with Correlation 0.98\n",
      "ldl_path and Extension_LetterCount with Correlation 0.98\n",
      "ldl_path and Query_LetterCount with Correlation 0.99\n",
      "ldl_path and LongestPathTokenLength with Correlation 0.98\n",
      "ldl_filename and dld_filename with Correlation 0.94\n",
      "ldl_getArg and dld_getArg with Correlation 0.84\n",
      "ldl_getArg and urlLen with Correlation 0.98\n",
      "ldl_getArg and pathLength with Correlation 0.98\n",
      "ldl_getArg and subDirLen with Correlation 0.98\n",
      "ldl_getArg and ArgLen with Correlation 0.99\n",
      "ldl_getArg and argDomanRatio with Correlation 0.99\n",
      "ldl_getArg and pathDomainRatio with Correlation 0.96\n",
      "ldl_getArg and LongestVariableValue with Correlation 0.99\n",
      "ldl_getArg and URL_DigitCount with Correlation 0.94\n",
      "ldl_getArg and Extension_DigitCount with Correlation 0.95\n",
      "ldl_getArg and Query_DigitCount with Correlation 0.97\n",
      "ldl_getArg and URL_Letter_Count with Correlation 0.98\n",
      "ldl_getArg and Extension_LetterCount with Correlation 0.98\n",
      "ldl_getArg and Query_LetterCount with Correlation 0.99\n",
      "ldl_getArg and LongestPathTokenLength with Correlation 0.98\n",
      "dld_url and dld_getArg with Correlation 0.94\n",
      "dld_url and URL_DigitCount with Correlation 0.85\n",
      "dld_url and Extension_DigitCount with Correlation 0.85\n",
      "dld_url and Query_DigitCount with Correlation 0.81\n",
      "dld_path and dld_getArg with Correlation 0.94\n",
      "dld_path and URL_DigitCount with Correlation 0.85\n",
      "dld_path and Extension_DigitCount with Correlation 0.85\n",
      "dld_path and Query_DigitCount with Correlation 0.81\n",
      "dld_getArg and urlLen with Correlation 0.81\n",
      "dld_getArg and pathLength with Correlation 0.81\n",
      "dld_getArg and subDirLen with Correlation 0.81\n",
      "dld_getArg and ArgLen with Correlation 0.83\n",
      "dld_getArg and argDomanRatio with Correlation 0.81\n",
      "dld_getArg and URL_DigitCount with Correlation 0.86\n",
      "dld_getArg and Extension_DigitCount with Correlation 0.87\n",
      "dld_getArg and Query_DigitCount with Correlation 0.86\n",
      "urlLen and pathLength with Correlation 1.0\n",
      "urlLen and subDirLen with Correlation 1.0\n",
      "urlLen and ArgLen with Correlation 0.99\n",
      "urlLen and argDomanRatio with Correlation 0.98\n",
      "urlLen and pathDomainRatio with Correlation 0.98\n",
      "urlLen and LongestVariableValue with Correlation 0.98\n",
      "urlLen and URL_DigitCount with Correlation 0.95\n",
      "urlLen and Extension_DigitCount with Correlation 0.95\n",
      "urlLen and Query_DigitCount with Correlation 0.95\n",
      "urlLen and URL_Letter_Count with Correlation 1.0\n",
      "urlLen and Extension_LetterCount with Correlation 0.98\n",
      "urlLen and Query_LetterCount with Correlation 0.98\n",
      "urlLen and LongestPathTokenLength with Correlation 0.99\n",
      "domainlength and host_letter_count with Correlation 0.97\n",
      "pathLength and ArgLen with Correlation 0.99\n",
      "pathLength and argDomanRatio with Correlation 0.99\n",
      "pathLength and pathDomainRatio with Correlation 0.98\n",
      "pathLength and LongestVariableValue with Correlation 0.98\n",
      "pathLength and URL_DigitCount with Correlation 0.95\n",
      "pathLength and Extension_DigitCount with Correlation 0.95\n",
      "pathLength and Query_DigitCount with Correlation 0.95\n",
      "pathLength and URL_Letter_Count with Correlation 1.0\n",
      "pathLength and Extension_LetterCount with Correlation 0.98\n",
      "pathLength and Query_LetterCount with Correlation 0.98\n",
      "pathLength and LongestPathTokenLength with Correlation 0.99\n",
      "subDirLen and ArgLen with Correlation 0.99\n",
      "subDirLen and argDomanRatio with Correlation 0.99\n",
      "subDirLen and pathDomainRatio with Correlation 0.98\n",
      "subDirLen and LongestVariableValue with Correlation 0.98\n",
      "subDirLen and URL_DigitCount with Correlation 0.95\n",
      "subDirLen and Extension_DigitCount with Correlation 0.95\n",
      "subDirLen and Query_DigitCount with Correlation 0.95\n",
      "subDirLen and URL_Letter_Count with Correlation 1.0\n",
      "subDirLen and Extension_LetterCount with Correlation 0.98\n",
      "subDirLen and Query_LetterCount with Correlation 0.98\n",
      "subDirLen and LongestPathTokenLength with Correlation 0.99\n",
      "ArgLen and argDomanRatio with Correlation 1.0\n",
      "ArgLen and pathDomainRatio with Correlation 0.96\n",
      "ArgLen and LongestVariableValue with Correlation 0.99\n",
      "ArgLen and URL_DigitCount with Correlation 0.95\n",
      "ArgLen and Extension_DigitCount with Correlation 0.96\n",
      "ArgLen and Query_DigitCount with Correlation 0.97\n",
      "ArgLen and URL_Letter_Count with Correlation 0.99\n",
      "ArgLen and Extension_LetterCount with Correlation 0.98\n",
      "ArgLen and Query_LetterCount with Correlation 0.99\n",
      "ArgLen and LongestPathTokenLength with Correlation 0.98\n",
      "ArgUrlRatio and argPathRatio with Correlation 0.99\n",
      "argDomanRatio and pathDomainRatio with Correlation 0.96\n",
      "argDomanRatio and LongestVariableValue with Correlation 0.99\n",
      "argDomanRatio and URL_DigitCount with Correlation 0.94\n",
      "argDomanRatio and Extension_DigitCount with Correlation 0.95\n",
      "argDomanRatio and Query_DigitCount with Correlation 0.97\n",
      "argDomanRatio and URL_Letter_Count with Correlation 0.99\n",
      "argDomanRatio and Extension_LetterCount with Correlation 0.98\n",
      "argDomanRatio and Query_LetterCount with Correlation 0.99\n",
      "argDomanRatio and LongestPathTokenLength with Correlation 0.98\n",
      "pathDomainRatio and LongestVariableValue with Correlation 0.96\n",
      "pathDomainRatio and URL_DigitCount with Correlation 0.91\n",
      "pathDomainRatio and Extension_DigitCount with Correlation 0.9\n",
      "pathDomainRatio and Query_DigitCount with Correlation 0.92\n",
      "pathDomainRatio and URL_Letter_Count with Correlation 0.98\n",
      "pathDomainRatio and Extension_LetterCount with Correlation 0.97\n",
      "pathDomainRatio and Query_LetterCount with Correlation 0.96\n",
      "pathDomainRatio and LongestPathTokenLength with Correlation 0.98\n",
      "argPathRatio and NumberRate_AfterPath with Correlation 0.83\n",
      "argPathRatio and Entropy_Afterpath with Correlation 0.8\n",
      "LongestVariableValue and URL_DigitCount with Correlation 0.92\n",
      "LongestVariableValue and Extension_DigitCount with Correlation 0.93\n",
      "LongestVariableValue and Query_DigitCount with Correlation 0.96\n",
      "LongestVariableValue and URL_Letter_Count with Correlation 0.99\n",
      "LongestVariableValue and Extension_LetterCount with Correlation 0.99\n",
      "LongestVariableValue and Query_LetterCount with Correlation 1.0\n",
      "LongestVariableValue and LongestPathTokenLength with Correlation 0.99\n",
      "URL_DigitCount and Extension_DigitCount with Correlation 0.97\n",
      "URL_DigitCount and Query_DigitCount with Correlation 0.94\n",
      "URL_DigitCount and URL_Letter_Count with Correlation 0.93\n",
      "URL_DigitCount and Extension_LetterCount with Correlation 0.91\n",
      "URL_DigitCount and Query_LetterCount with Correlation 0.92\n",
      "URL_DigitCount and LongestPathTokenLength with Correlation 0.93\n",
      "host_DigitCount and NumberRate_Domain with Correlation 0.9\n",
      "Extension_DigitCount and Query_DigitCount with Correlation 0.95\n",
      "Extension_DigitCount and URL_Letter_Count with Correlation 0.94\n",
      "Extension_DigitCount and Extension_LetterCount with Correlation 0.92\n",
      "Extension_DigitCount and Query_LetterCount with Correlation 0.92\n",
      "Extension_DigitCount and LongestPathTokenLength with Correlation 0.94\n",
      "Query_DigitCount and URL_Letter_Count with Correlation 0.94\n",
      "Query_DigitCount and Extension_LetterCount with Correlation 0.95\n",
      "Query_DigitCount and Query_LetterCount with Correlation 0.95\n",
      "Query_DigitCount and LongestPathTokenLength with Correlation 0.95\n",
      "URL_Letter_Count and Extension_LetterCount with Correlation 0.99\n",
      "URL_Letter_Count and Query_LetterCount with Correlation 0.99\n",
      "URL_Letter_Count and LongestPathTokenLength with Correlation 0.99\n",
      "Extension_LetterCount and Query_LetterCount with Correlation 0.99\n",
      "Extension_LetterCount and LongestPathTokenLength with Correlation 0.99\n",
      "Query_LetterCount and LongestPathTokenLength with Correlation 0.99\n",
      "Path_LongestWordLength and sub-Directory_LongestWordLength with Correlation 0.87\n",
      "URLQueries_variable and delimeter_Count with Correlation 0.99\n",
      "URLQueries_variable and SymbolCount_Afterpath with Correlation 0.91\n",
      "delimeter_Count and SymbolCount_Afterpath with Correlation 0.91\n",
      "NumberRate_DirectoryName and Entropy_DirectoryName with Correlation 0.82\n",
      "NumberRate_DirectoryName and Entropy_Filename with Correlation 0.82\n",
      "NumberRate_AfterPath and Entropy_Afterpath with Correlation 0.98\n",
      "SymbolCount_URL and SymbolCount_FileName with Correlation 0.83\n",
      "SymbolCount_FileName and SymbolCount_Extension with Correlation 0.93\n",
      "Entropy_DirectoryName and Entropy_Filename with Correlation 0.96\n"
     ]
    },
    {
     "name": "stderr",
     "output_type": "stream",
     "text": [
      "C:\\Users\\deban\\anaconda3\\lib\\site-packages\\pandas\\core\\indexes\\base.py:4111: FutureWarning: Using a non-tuple sequence for multidimensional indexing is deprecated; use `arr[tuple(seq)]` instead of `arr[seq]`. In the future this will be interpreted as an array index, `arr[np.array(seq)]`, which will result either in an error or a different result.\n",
      "  result = getitem(key)\n"
     ]
    }
   ],
   "source": [
    "# Removing all the columns with correlation almost equal to 0 ->\n",
    "# Which shows no impact on the O/P variable and the features with High Correlation      \n",
    "\n",
    "print(\"<-----Features with Low Correlation Value----->\") \n",
    "index_spam_lowcorr=columns_lowcorr(corr, spam_columns)\n",
    "print(\"<---------------------------------------------->\")\n",
    "print(\"<-----Features with High Correlation Value----->\")\n",
    "index_spam_highcorr=columns_highcorr(corr, spam_columns)\n",
    "index_spam=final_index(index_spam_lowcorr, index_spam_highcorr)\n",
    "\n",
    "spam3=spam1.drop(columns=spam_columns[[index_spam]])\n",
    "            \n",
    "spam2, scaler=dataset_scaling(spam3) # Scaling the Dataset\n",
    "spam2=pd.DataFrame(spam2,columns=spam3.columns)"
   ]
  },
  {
   "cell_type": "code",
   "execution_count": 18,
   "metadata": {},
   "outputs": [],
   "source": [
    "# Principal Component Analysis\n",
    "\n",
    "# Separating the input and output features\n",
    "X=spam2.loc[:, spam2.columns!=\"URL_Type_obf_Type\"]\n",
    "y=spam2[\"URL_Type_obf_Type\"]\n",
    "\n",
    "# Let's say, components = 6\n",
    "pca = PCA(n_components = 6)\n",
    "pca.fit(X)\n",
    "X_pca = pca.transform(X)"
   ]
  },
  {
   "cell_type": "code",
   "execution_count": 19,
   "metadata": {},
   "outputs": [],
   "source": [
    "# Splitting the samples\n",
    "train_x, test_x, train_y, test_y=train_test_split(X_pca, y, random_state=0, test_size=0.25)"
   ]
  },
  {
   "cell_type": "code",
   "execution_count": 20,
   "metadata": {},
   "outputs": [
    {
     "name": "stdout",
     "output_type": "stream",
     "text": [
      "0.1331183910369873\n"
     ]
    }
   ],
   "source": [
    "# Machine Learning Models\n",
    "start = time.time()\n",
    "svm=SVC()\n",
    "svm.fit(train_x, train_y)\n",
    "predicted_test=svm.predict(test_x)\n",
    "y_score_spam = svm.decision_function(test_x)\n",
    "end = time.time()\n",
    "print((end-start)) # Prints Time taken by the Model to train and execute the samples in seconds"
   ]
  },
  {
   "cell_type": "code",
   "execution_count": 21,
   "metadata": {},
   "outputs": [],
   "source": [
    "# Predicting the Output\n",
    "predicted_train=svm.predict(train_x)"
   ]
  },
  {
   "cell_type": "code",
   "execution_count": 22,
   "metadata": {},
   "outputs": [
    {
     "data": {
      "text/plain": [
       "98.77616747181965"
      ]
     },
     "execution_count": 22,
     "metadata": {},
     "output_type": "execute_result"
    }
   ],
   "source": [
    "# Performance Metrics\n",
    "accuracy_score(test_y, predicted_test) * 100 # 98.77% for testing"
   ]
  },
  {
   "cell_type": "code",
   "execution_count": 23,
   "metadata": {},
   "outputs": [
    {
     "data": {
      "text/plain": [
       "98.6580783682233"
      ]
     },
     "execution_count": 23,
     "metadata": {},
     "output_type": "execute_result"
    }
   ],
   "source": [
    "accuracy_score(train_y, predicted_train) * 100 # 98.65% for training"
   ]
  },
  {
   "cell_type": "code",
   "execution_count": 24,
   "metadata": {},
   "outputs": [
    {
     "name": "stdout",
     "output_type": "stream",
     "text": [
      "Confusion matrix : \n",
      " [[4841   99]\n",
      " [  26 4349]]\n",
      "Outcome values : \n",
      " 4841 99 26 4349\n",
      "Classification report : \n",
      "               precision    recall  f1-score   support\n",
      "\n",
      "           1       0.99      0.98      0.99      4940\n",
      "           0       0.98      0.99      0.99      4375\n",
      "\n",
      "    accuracy                           0.99      9315\n",
      "   macro avg       0.99      0.99      0.99      9315\n",
      "weighted avg       0.99      0.99      0.99      9315\n",
      "\n"
     ]
    }
   ],
   "source": [
    "# confusion matrix\n",
    "matrix = confusion_matrix(train_y,predicted_train,labels=[1,0])\n",
    "print('Confusion matrix : \\n',matrix)\n",
    "\n",
    "# outcome values order in sklearn\n",
    "tp, fn, fp, tn = confusion_matrix(train_y,predicted_train,labels=[1,0]).reshape(-1)\n",
    "print('Outcome values : \\n', tp, fn, fp, tn)\n",
    "\n",
    "# classification report for precision, recall f1-score and accuracy\n",
    "matrix = classification_report(train_y,predicted_train,labels=[1,0])\n",
    "print('Classification report : \\n',matrix)"
   ]
  },
  {
   "cell_type": "code",
   "execution_count": 25,
   "metadata": {},
   "outputs": [
    {
     "data": {
      "text/plain": [
       "Text(0.5, 1.0, '2-class Precision-Recall curve: AP=1.00')"
      ]
     },
     "execution_count": 25,
     "metadata": {},
     "output_type": "execute_result"
    },
    {
     "data": {
      "image/png": "[encoded data removed]",
      "text/plain": [
       "<Figure size 432x288 with 1 Axes>"
      ]
     },
     "metadata": {
      "needs_background": "light"
     },
     "output_type": "display_data"
    }
   ],
   "source": [
    "average_precision = average_precision_score(test_y, y_score_spam)\n",
    "disp = plot_precision_recall_curve(svm, test_x, test_y)\n",
    "disp.ax_.set_title('2-class Precision-Recall curve: '\n",
    "                   'AP={0:0.2f}'.format(average_precision))"
   ]
  },
  {
   "cell_type": "markdown",
   "metadata": {},
   "source": [
    "### Phishing and Benign"
   ]
  },
  {
   "cell_type": "code",
   "execution_count": 26,
   "metadata": {},
   "outputs": [
    {
     "name": "stdout",
     "output_type": "stream",
     "text": [
      "<class 'pandas.core.frame.DataFrame'>\n",
      "RangeIndex: 13084 entries, 0 to 13083\n",
      "Data columns (total 79 columns):\n",
      " #   Column                           Non-Null Count  Dtype  \n",
      "---  ------                           --------------  -----  \n",
      " 0   Querylength                      13084 non-null  int64  \n",
      " 1   domain_token_count               13084 non-null  int64  \n",
      " 2   path_token_count                 13084 non-null  int64  \n",
      " 3   avgdomaintokenlen                13084 non-null  float64\n",
      " 4   longdomaintokenlen               13084 non-null  int64  \n",
      " 5   avgpathtokenlen                  13084 non-null  float64\n",
      " 6   tld                              13084 non-null  int64  \n",
      " 7   charcompvowels                   13084 non-null  int64  \n",
      " 8   charcompace                      13084 non-null  int64  \n",
      " 9   ldl_url                          13084 non-null  int64  \n",
      " 10  ldl_domain                       13084 non-null  int64  \n",
      " 11  ldl_path                         13084 non-null  int64  \n",
      " 12  ldl_filename                     13084 non-null  int64  \n",
      " 13  ldl_getArg                       13084 non-null  int64  \n",
      " 14  dld_url                          13084 non-null  int64  \n",
      " 15  dld_domain                       13084 non-null  int64  \n",
      " 16  dld_path                         13084 non-null  int64  \n",
      " 17  dld_filename                     13084 non-null  int64  \n",
      " 18  dld_getArg                       13084 non-null  int64  \n",
      " 19  urlLen                           13084 non-null  int64  \n",
      " 20  domainlength                     13084 non-null  int64  \n",
      " 21  pathLength                       13084 non-null  int64  \n",
      " 22  subDirLen                        13084 non-null  int64  \n",
      " 23  fileNameLen                      13084 non-null  int64  \n",
      " 24  this.fileExtLen                  13084 non-null  int64  \n",
      " 25  ArgLen                           13084 non-null  int64  \n",
      " 26  pathurlRatio                     13084 non-null  float64\n",
      " 27  ArgUrlRatio                      13084 non-null  float64\n",
      " 28  argDomanRatio                    13084 non-null  float64\n",
      " 29  domainUrlRatio                   13084 non-null  float64\n",
      " 30  pathDomainRatio                  13084 non-null  float64\n",
      " 31  argPathRatio                     13084 non-null  float64\n",
      " 32  executable                       13084 non-null  int64  \n",
      " 33  isPortEighty                     13084 non-null  int64  \n",
      " 34  NumberofDotsinURL                13084 non-null  int64  \n",
      " 35  ISIpAddressInDomainName          13084 non-null  int64  \n",
      " 36  CharacterContinuityRate          13084 non-null  float64\n",
      " 37  LongestVariableValue             13084 non-null  int64  \n",
      " 38  URL_DigitCount                   13084 non-null  int64  \n",
      " 39  host_DigitCount                  13084 non-null  int64  \n",
      " 40  Directory_DigitCount             13084 non-null  int64  \n",
      " 41  File_name_DigitCount             13084 non-null  int64  \n",
      " 42  Extension_DigitCount             13084 non-null  int64  \n",
      " 43  Query_DigitCount                 13084 non-null  int64  \n",
      " 44  URL_Letter_Count                 13084 non-null  int64  \n",
      " 45  host_letter_count                13084 non-null  int64  \n",
      " 46  Directory_LetterCount            13084 non-null  int64  \n",
      " 47  Filename_LetterCount             13084 non-null  int64  \n",
      " 48  Extension_LetterCount            13084 non-null  int64  \n",
      " 49  Query_LetterCount                13084 non-null  int64  \n",
      " 50  LongestPathTokenLength           13084 non-null  int64  \n",
      " 51  Domain_LongestWordLength         13084 non-null  int64  \n",
      " 52  Path_LongestWordLength           13084 non-null  int64  \n",
      " 53  sub-Directory_LongestWordLength  13084 non-null  int64  \n",
      " 54  Arguments_LongestWordLength      13084 non-null  int64  \n",
      " 55  URL_sensitiveWord                13084 non-null  int64  \n",
      " 56  URLQueries_variable              13084 non-null  int64  \n",
      " 57  spcharUrl                        13084 non-null  int64  \n",
      " 58  delimeter_Domain                 13084 non-null  int64  \n",
      " 59  delimeter_path                   13084 non-null  int64  \n",
      " 60  delimeter_Count                  13084 non-null  int64  \n",
      " 61  NumberRate_URL                   13084 non-null  float64\n",
      " 62  NumberRate_Domain                13084 non-null  float64\n",
      " 63  NumberRate_DirectoryName         13084 non-null  float64\n",
      " 64  NumberRate_FileName              13084 non-null  float64\n",
      " 65  NumberRate_AfterPath             13084 non-null  float64\n",
      " 66  SymbolCount_URL                  13084 non-null  int64  \n",
      " 67  SymbolCount_Domain               13084 non-null  int64  \n",
      " 68  SymbolCount_Directoryname        13084 non-null  int64  \n",
      " 69  SymbolCount_FileName             13084 non-null  int64  \n",
      " 70  SymbolCount_Extension            13084 non-null  int64  \n",
      " 71  SymbolCount_Afterpath            13084 non-null  int64  \n",
      " 72  Entropy_URL                      13084 non-null  float64\n",
      " 73  Entropy_Domain                   13084 non-null  float64\n",
      " 74  Entropy_DirectoryName            13084 non-null  float64\n",
      " 75  Entropy_Filename                 13084 non-null  float64\n",
      " 76  Entropy_Extension                13084 non-null  float64\n",
      " 77  Entropy_Afterpath                13084 non-null  float64\n",
      " 78  URL_Type_obf_Type                13084 non-null  object \n",
      "dtypes: float64(20), int64(58), object(1)\n",
      "memory usage: 7.9+ MB\n"
     ]
    }
   ],
   "source": [
    "# In Phishing Dataset nearly 48% of values are NULL values in the NumberRate_Extension column\n",
    "\n",
    "phishing1=phishing.drop([\"NumberRate_Extension\"], axis=1)\n",
    "phishing1=phishing1.dropna()\n",
    "phishing1=shuffle(phishing1)\n",
    "phishing1=phishing1.reset_index(drop=True)\n",
    "phishing1.info()"
   ]
  },
  {
   "cell_type": "code",
   "execution_count": 27,
   "metadata": {},
   "outputs": [],
   "source": [
    "# If URL_Type_obf_Type == \"phishing\" [class label 0], else [class label 1]\n",
    "\n",
    "# Function to label the classes in a DataFrame\n",
    "def class_labels_phishing(class_name):\n",
    "    if(class_name==\"phishing\"):\n",
    "        return 0\n",
    "    else:\n",
    "        return 1\n",
    "    \n",
    "phishing1[\"URL_Type_obf_Type\"]=phishing1[\"URL_Type_obf_Type\"].apply(lambda x:class_labels_phishing(x))\n",
    "phishing_columns=phishing1.columns\n",
    "\n",
    "corr=phishing1.corr()"
   ]
  },
  {
   "cell_type": "code",
   "execution_count": 28,
   "metadata": {},
   "outputs": [
    {
     "name": "stdout",
     "output_type": "stream",
     "text": [
      "<-----Features with Low Correlation Value----->\n",
      "URL_Type_obf_Type and Querylength with Correlation 0.02\n",
      "URL_Type_obf_Type and avgpathtokenlen with Correlation -0.05\n",
      "URL_Type_obf_Type and ldl_domain with Correlation -0.07\n",
      "URL_Type_obf_Type and ldl_filename with Correlation -0.0\n",
      "URL_Type_obf_Type and dld_domain with Correlation -0.04\n",
      "URL_Type_obf_Type and dld_filename with Correlation 0.04\n",
      "URL_Type_obf_Type and urlLen with Correlation 0.1\n",
      "URL_Type_obf_Type and ArgLen with Correlation -0.03\n",
      "URL_Type_obf_Type and ArgUrlRatio with Correlation -0.01\n",
      "URL_Type_obf_Type and argDomanRatio with Correlation 0.03\n",
      "URL_Type_obf_Type and argPathRatio with Correlation -0.06\n",
      "URL_Type_obf_Type and executable with Correlation -0.01\n",
      "URL_Type_obf_Type and isPortEighty with Correlation nan\n",
      "URL_Type_obf_Type and ISIpAddressInDomainName with Correlation nan\n",
      "URL_Type_obf_Type and LongestVariableValue with Correlation 0.01\n",
      "URL_Type_obf_Type and URL_DigitCount with Correlation -0.06\n",
      "URL_Type_obf_Type and host_DigitCount with Correlation -0.09\n",
      "URL_Type_obf_Type and Directory_DigitCount with Correlation 0.0\n",
      "URL_Type_obf_Type and Query_DigitCount with Correlation -0.02\n",
      "URL_Type_obf_Type and Query_LetterCount with Correlation 0.05\n",
      "URL_Type_obf_Type and Arguments_LongestWordLength with Correlation 0.08\n",
      "URL_Type_obf_Type and URL_sensitiveWord with Correlation -0.07\n",
      "URL_Type_obf_Type and NumberRate_URL with Correlation 0.01\n",
      "URL_Type_obf_Type and NumberRate_Domain with Correlation 0.01\n",
      "URL_Type_obf_Type and NumberRate_DirectoryName with Correlation -0.07\n",
      "URL_Type_obf_Type and NumberRate_AfterPath with Correlation 0.08\n",
      "URL_Type_obf_Type and SymbolCount_FileName with Correlation 0.03\n",
      "URL_Type_obf_Type and SymbolCount_Extension with Correlation 0.08\n",
      "URL_Type_obf_Type and SymbolCount_Afterpath with Correlation 0.08\n",
      "URL_Type_obf_Type and Entropy_Afterpath with Correlation 0.09\n",
      "<---------------------------------------------->\n",
      "<-----Features with High Correlation Value----->\n",
      "Querylength and LongestVariableValue with Correlation 0.98\n",
      "Querylength and Query_DigitCount with Correlation 0.87\n",
      "Querylength and Query_LetterCount with Correlation 0.95\n",
      "domain_token_count and SymbolCount_Domain with Correlation 1.0\n",
      "path_token_count and delimeter_path with Correlation 0.86\n",
      "avgdomaintokenlen and longdomaintokenlen with Correlation 0.91\n",
      "longdomaintokenlen and domainlength with Correlation 0.82\n",
      "longdomaintokenlen and host_letter_count with Correlation 0.86\n",
      "tld and SymbolCount_Domain with Correlation 1.0\n",
      "charcompvowels and charcompace with Correlation 0.89\n",
      "charcompvowels and urlLen with Correlation 0.81\n",
      "charcompvowels and pathLength with Correlation 0.86\n",
      "charcompvowels and subDirLen with Correlation 0.86\n",
      "charcompvowels and URL_Letter_Count with Correlation 0.89\n",
      "charcompace and urlLen with Correlation 0.86\n",
      "charcompace and pathLength with Correlation 0.88\n",
      "charcompace and subDirLen with Correlation 0.88\n",
      "charcompace and URL_Letter_Count with Correlation 0.85\n",
      "ldl_url and ldl_path with Correlation 0.99\n",
      "ldl_url and dld_url with Correlation 0.94\n",
      "ldl_url and dld_path with Correlation 0.93\n",
      "ldl_url and URL_DigitCount with Correlation 0.85\n",
      "ldl_domain and dld_domain with Correlation 0.86\n",
      "ldl_path and dld_url with Correlation 0.94\n",
      "ldl_path and dld_path with Correlation 0.94\n",
      "ldl_path and URL_DigitCount with Correlation 0.84\n",
      "ldl_filename and dld_filename with Correlation 0.92\n",
      "ldl_getArg and dld_getArg with Correlation 0.95\n",
      "dld_url and dld_path with Correlation 0.99\n",
      "dld_url and URL_DigitCount with Correlation 0.83\n",
      "dld_path and URL_DigitCount with Correlation 0.83\n",
      "urlLen and pathLength with Correlation 0.97\n",
      "urlLen and subDirLen with Correlation 0.97\n",
      "urlLen and URL_Letter_Count with Correlation 0.93\n",
      "domainlength and host_letter_count with Correlation 0.98\n",
      "pathLength and pathDomainRatio with Correlation 0.82\n",
      "pathLength and URL_Letter_Count with Correlation 0.9\n",
      "pathLength and LongestPathTokenLength with Correlation 0.82\n",
      "subDirLen and pathDomainRatio with Correlation 0.82\n",
      "subDirLen and URL_Letter_Count with Correlation 0.9\n",
      "subDirLen and LongestPathTokenLength with Correlation 0.82\n",
      "ArgLen and ArgUrlRatio with Correlation 0.9\n",
      "ArgLen and argDomanRatio with Correlation 0.96\n",
      "ArgLen and argPathRatio with Correlation 0.85\n",
      "pathurlRatio and pathDomainRatio with Correlation 0.84\n",
      "ArgUrlRatio and argDomanRatio with Correlation 0.91\n",
      "ArgUrlRatio and argPathRatio with Correlation 0.98\n",
      "ArgUrlRatio and NumberRate_AfterPath with Correlation 0.86\n",
      "ArgUrlRatio and SymbolCount_Afterpath with Correlation 0.84\n",
      "ArgUrlRatio and Entropy_Afterpath with Correlation 0.86\n",
      "argDomanRatio and argPathRatio with Correlation 0.85\n",
      "argDomanRatio and SymbolCount_Afterpath with Correlation 0.8\n",
      "argPathRatio and NumberRate_AfterPath with Correlation 0.86\n",
      "argPathRatio and SymbolCount_Afterpath with Correlation 0.81\n",
      "argPathRatio and Entropy_Afterpath with Correlation 0.87\n",
      "LongestVariableValue and Query_DigitCount with Correlation 0.83\n",
      "LongestVariableValue and Query_LetterCount with Correlation 0.94\n",
      "URL_DigitCount and NumberRate_URL with Correlation 0.86\n",
      "URLQueries_variable and delimeter_Count with Correlation 0.96\n",
      "URLQueries_variable and SymbolCount_Afterpath with Correlation 0.81\n",
      "spcharUrl and SymbolCount_Directoryname with Correlation 0.83\n",
      "delimeter_Count and SymbolCount_Afterpath with Correlation 0.85\n",
      "NumberRate_DirectoryName and Entropy_DirectoryName with Correlation 0.81\n",
      "NumberRate_AfterPath and Entropy_Afterpath with Correlation 0.98\n",
      "SymbolCount_FileName and SymbolCount_Extension with Correlation 0.93\n",
      "SymbolCount_FileName and SymbolCount_Afterpath with Correlation 0.86\n",
      "SymbolCount_Extension and SymbolCount_Afterpath with Correlation 0.82\n",
      "Entropy_DirectoryName and Entropy_Filename with Correlation 0.95\n"
     ]
    },
    {
     "name": "stderr",
     "output_type": "stream",
     "text": [
      "C:\\Users\\deban\\anaconda3\\lib\\site-packages\\pandas\\core\\indexes\\base.py:4111: FutureWarning: Using a non-tuple sequence for multidimensional indexing is deprecated; use `arr[tuple(seq)]` instead of `arr[seq]`. In the future this will be interpreted as an array index, `arr[np.array(seq)]`, which will result either in an error or a different result.\n",
      "  result = getitem(key)\n"
     ]
    }
   ],
   "source": [
    "# Removing all the columns with correlation almost equal to 0 ->\n",
    " # Which shows no impact on the O/P variable and the features with High Correlation      \n",
    "\n",
    "print(\"<-----Features with Low Correlation Value----->\") \n",
    "index_phishing_lowcorr=columns_lowcorr(corr, phishing_columns)\n",
    "print(\"<---------------------------------------------->\")\n",
    "print(\"<-----Features with High Correlation Value----->\")\n",
    "index_phishing_highcorr=columns_highcorr(corr, phishing_columns)\n",
    "index_phishing=final_index(index_phishing_lowcorr, index_phishing_highcorr)\n",
    "\n",
    "phishing3=phishing1.drop(columns=phishing_columns[[index_phishing]])\n",
    "            \n",
    "phishing2, scaler=dataset_scaling(phishing3) # Scaling the Dataset\n",
    "phishing2=pd.DataFrame(phishing2,columns=phishing3.columns)"
   ]
  },
  {
   "cell_type": "code",
   "execution_count": 29,
   "metadata": {},
   "outputs": [],
   "source": [
    "# Principal Component Analysis\n",
    "# Separating the input and output features\n",
    "X=phishing2.loc[:, phishing2.columns!=\"URL_Type_obf_Type\"]\n",
    "y=phishing2[\"URL_Type_obf_Type\"]\n",
    " \n",
    "# Let's say, components = 10\n",
    "pca = PCA(n_components = 10)\n",
    "pca.fit(X)\n",
    "X_pca = pca.transform(X)"
   ]
  },
  {
   "cell_type": "code",
   "execution_count": 30,
   "metadata": {},
   "outputs": [],
   "source": [
    "# Splitting the samples\n",
    "train_x, test_x, train_y, test_y=train_test_split(X_pca, y, random_state=0, test_size=0.25)"
   ]
  },
  {
   "cell_type": "code",
   "execution_count": 31,
   "metadata": {},
   "outputs": [
    {
     "name": "stdout",
     "output_type": "stream",
     "text": [
      "0.51979660987854\n"
     ]
    }
   ],
   "source": [
    "# Machine Learning Models\n",
    "start = time.time()\n",
    "svm=SVC()\n",
    "svm.fit(train_x, train_y)\n",
    "predicted_test=svm.predict(test_x)\n",
    "y_score_phising = svm.decision_function(test_x)\n",
    "end = time.time()\n",
    "print((end-start)) # Prints Time taken by the Model to train and execute the samples in seconds"
   ]
  },
  {
   "cell_type": "code",
   "execution_count": 32,
   "metadata": {},
   "outputs": [],
   "source": [
    "# Predicting the Output\n",
    "predicted_train=svm.predict(train_x)"
   ]
  },
  {
   "cell_type": "code",
   "execution_count": 33,
   "metadata": {},
   "outputs": [
    {
     "data": {
      "text/plain": [
       "96.39254050749007"
      ]
     },
     "execution_count": 33,
     "metadata": {},
     "output_type": "execute_result"
    }
   ],
   "source": [
    "# Performance Metrics\n",
    "accuracy_score(test_y, predicted_test) * 100 # 96.39% for testing"
   ]
  },
  {
   "cell_type": "code",
   "execution_count": 34,
   "metadata": {},
   "outputs": [
    {
     "data": {
      "text/plain": [
       "95.77091613166208"
      ]
     },
     "execution_count": 34,
     "metadata": {},
     "output_type": "execute_result"
    }
   ],
   "source": [
    "accuracy_score(train_y, predicted_train) * 100 # 95.77% for training"
   ]
  },
  {
   "cell_type": "code",
   "execution_count": 35,
   "metadata": {},
   "outputs": [
    {
     "name": "stdout",
     "output_type": "stream",
     "text": [
      "Confusion matrix : \n",
      " [[4798  134]\n",
      " [ 281 4600]]\n",
      "Outcome values : \n",
      " 4798 134 281 4600\n",
      "Classification report : \n",
      "               precision    recall  f1-score   support\n",
      "\n",
      "           1       0.94      0.97      0.96      4932\n",
      "           0       0.97      0.94      0.96      4881\n",
      "\n",
      "    accuracy                           0.96      9813\n",
      "   macro avg       0.96      0.96      0.96      9813\n",
      "weighted avg       0.96      0.96      0.96      9813\n",
      "\n"
     ]
    }
   ],
   "source": [
    "# confusion matrix\n",
    "matrix = confusion_matrix(train_y,predicted_train,labels=[1,0])\n",
    "print('Confusion matrix : \\n',matrix)\n",
    "\n",
    "# outcome values order in sklearn\n",
    "tp, fn, fp, tn = confusion_matrix(train_y,predicted_train,labels=[1,0]).reshape(-1)\n",
    "print('Outcome values : \\n', tp, fn, fp, tn)\n",
    "\n",
    "# classification report for precision, recall f1-score and accuracy\n",
    "matrix = classification_report(train_y,predicted_train,labels=[1,0])\n",
    "print('Classification report : \\n',matrix)"
   ]
  },
  {
   "cell_type": "code",
   "execution_count": 36,
   "metadata": {},
   "outputs": [
    {
     "data": {
      "text/plain": [
       "Text(0.5, 1.0, '2-class Precision-Recall curve: AP=0.99')"
      ]
     },
     "execution_count": 36,
     "metadata": {},
     "output_type": "execute_result"
    },
    {
     "data": {
      "image/png": "[encoded data removed]",
      "text/plain": [
       "<Figure size 432x288 with 1 Axes>"
      ]
     },
     "metadata": {
      "needs_background": "light"
     },
     "output_type": "display_data"
    }
   ],
   "source": [
    "average_precision = average_precision_score(test_y, y_score_phising)\n",
    "disp = plot_precision_recall_curve(svm, test_x, test_y)\n",
    "disp.ax_.set_title('2-class Precision-Recall curve: '\n",
    "                   'AP={0:0.2f}'.format(average_precision))"
   ]
  },
  {
   "cell_type": "markdown",
   "metadata": {},
   "source": [
    "### Defacement and Benign"
   ]
  },
  {
   "cell_type": "code",
   "execution_count": 37,
   "metadata": {},
   "outputs": [
    {
     "name": "stdout",
     "output_type": "stream",
     "text": [
      "<class 'pandas.core.frame.DataFrame'>\n",
      "RangeIndex: 15477 entries, 0 to 15476\n",
      "Data columns (total 78 columns):\n",
      " #   Column                           Non-Null Count  Dtype  \n",
      "---  ------                           --------------  -----  \n",
      " 0   Querylength                      15477 non-null  int64  \n",
      " 1   domain_token_count               15477 non-null  int64  \n",
      " 2   path_token_count                 15477 non-null  int64  \n",
      " 3   avgdomaintokenlen                15477 non-null  float64\n",
      " 4   longdomaintokenlen               15477 non-null  int64  \n",
      " 5   avgpathtokenlen                  15477 non-null  float64\n",
      " 6   tld                              15477 non-null  int64  \n",
      " 7   charcompvowels                   15477 non-null  int64  \n",
      " 8   charcompace                      15477 non-null  int64  \n",
      " 9   ldl_url                          15477 non-null  int64  \n",
      " 10  ldl_domain                       15477 non-null  int64  \n",
      " 11  ldl_path                         15477 non-null  int64  \n",
      " 12  ldl_filename                     15477 non-null  int64  \n",
      " 13  ldl_getArg                       15477 non-null  int64  \n",
      " 14  dld_url                          15477 non-null  int64  \n",
      " 15  dld_domain                       15477 non-null  int64  \n",
      " 16  dld_path                         15477 non-null  int64  \n",
      " 17  dld_filename                     15477 non-null  int64  \n",
      " 18  dld_getArg                       15477 non-null  int64  \n",
      " 19  urlLen                           15477 non-null  int64  \n",
      " 20  domainlength                     15477 non-null  int64  \n",
      " 21  pathLength                       15477 non-null  int64  \n",
      " 22  subDirLen                        15477 non-null  int64  \n",
      " 23  fileNameLen                      15477 non-null  int64  \n",
      " 24  this.fileExtLen                  15477 non-null  int64  \n",
      " 25  ArgLen                           15477 non-null  int64  \n",
      " 26  pathurlRatio                     15477 non-null  float64\n",
      " 27  ArgUrlRatio                      15477 non-null  float64\n",
      " 28  argDomanRatio                    15477 non-null  float64\n",
      " 29  domainUrlRatio                   15477 non-null  float64\n",
      " 30  pathDomainRatio                  15477 non-null  float64\n",
      " 31  argPathRatio                     15477 non-null  float64\n",
      " 32  executable                       15477 non-null  int64  \n",
      " 33  isPortEighty                     15477 non-null  int64  \n",
      " 34  NumberofDotsinURL                15477 non-null  int64  \n",
      " 35  ISIpAddressInDomainName          15477 non-null  int64  \n",
      " 36  CharacterContinuityRate          15477 non-null  float64\n",
      " 37  LongestVariableValue             15477 non-null  int64  \n",
      " 38  URL_DigitCount                   15477 non-null  int64  \n",
      " 39  host_DigitCount                  15477 non-null  int64  \n",
      " 40  Directory_DigitCount             15477 non-null  int64  \n",
      " 41  File_name_DigitCount             15477 non-null  int64  \n",
      " 42  Extension_DigitCount             15477 non-null  int64  \n",
      " 43  Query_DigitCount                 15477 non-null  int64  \n",
      " 44  URL_Letter_Count                 15477 non-null  int64  \n",
      " 45  host_letter_count                15477 non-null  int64  \n",
      " 46  Directory_LetterCount            15477 non-null  int64  \n",
      " 47  Filename_LetterCount             15477 non-null  int64  \n",
      " 48  Extension_LetterCount            15477 non-null  int64  \n",
      " 49  Query_LetterCount                15477 non-null  int64  \n",
      " 50  LongestPathTokenLength           15477 non-null  int64  \n",
      " 51  Domain_LongestWordLength         15477 non-null  int64  \n",
      " 52  Path_LongestWordLength           15477 non-null  int64  \n",
      " 53  sub-Directory_LongestWordLength  15477 non-null  int64  \n",
      " 54  Arguments_LongestWordLength      15477 non-null  int64  \n",
      " 55  URL_sensitiveWord                15477 non-null  int64  \n",
      " 56  URLQueries_variable              15477 non-null  int64  \n",
      " 57  spcharUrl                        15477 non-null  int64  \n",
      " 58  delimeter_Domain                 15477 non-null  int64  \n",
      " 59  delimeter_path                   15477 non-null  int64  \n",
      " 60  delimeter_Count                  15477 non-null  int64  \n",
      " 61  NumberRate_URL                   15477 non-null  float64\n",
      " 62  NumberRate_Domain                15477 non-null  float64\n",
      " 63  NumberRate_DirectoryName         15477 non-null  float64\n",
      " 64  NumberRate_FileName              15477 non-null  float64\n",
      " 65  NumberRate_AfterPath             15477 non-null  float64\n",
      " 66  SymbolCount_URL                  15477 non-null  int64  \n",
      " 67  SymbolCount_Domain               15477 non-null  int64  \n",
      " 68  SymbolCount_Directoryname        15477 non-null  int64  \n",
      " 69  SymbolCount_FileName             15477 non-null  int64  \n",
      " 70  SymbolCount_Extension            15477 non-null  int64  \n",
      " 71  SymbolCount_Afterpath            15477 non-null  int64  \n",
      " 72  Entropy_URL                      15477 non-null  float64\n",
      " 73  Entropy_Domain                   15477 non-null  float64\n",
      " 74  Entropy_Filename                 15477 non-null  float64\n",
      " 75  Entropy_Extension                15477 non-null  float64\n",
      " 76  Entropy_Afterpath                15477 non-null  float64\n",
      " 77  URL_Type_obf_Type                15477 non-null  object \n",
      "dtypes: float64(19), int64(58), object(1)\n",
      "memory usage: 9.2+ MB\n"
     ]
    }
   ],
   "source": [
    "# In Defacement Dataset nearly 39% of values are NULL values in the Entropy_DirectoryName\n",
    " # and 32% of values are NULL values in the NumberRate_Extension column\n",
    "\n",
    "# If we are using the dropna() on the Defacement Dataset, the number of rows falls from \n",
    " # 15711 to 5186 rows but if we drop the above two columns and apply dropna() then the number\n",
    "  # of rows reduces from 15711 to 15477 so, better to drop the two columns\n",
    "\n",
    "defacement1=defacement.drop([\"NumberRate_Extension\", \"Entropy_DirectoryName\"], axis=1)\n",
    "defacement1=defacement1.dropna()\n",
    "defacement1=shuffle(defacement1) \n",
    "defacement1=defacement1.reset_index(drop=True)\n",
    "defacement1.info()"
   ]
  },
  {
   "cell_type": "code",
   "execution_count": 38,
   "metadata": {},
   "outputs": [],
   "source": [
    "# If URL_Type_obf_Type == \"Defacement\" [class label 0], else [class label 1]\n",
    "\n",
    "# Function to label the classes in a DataFrame\n",
    "def class_labels_defacement(class_name):\n",
    "    if(class_name==\"Defacement\"):\n",
    "        return 0\n",
    "    else:\n",
    "        return 1\n",
    "    \n",
    "defacement1[\"URL_Type_obf_Type\"]=defacement1[\"URL_Type_obf_Type\"].apply(lambda x:class_labels_defacement(x))\n",
    "defacement_columns=defacement1.columns\n",
    "\n",
    "corr=defacement1.corr()"
   ]
  },
  {
   "cell_type": "code",
   "execution_count": 39,
   "metadata": {},
   "outputs": [
    {
     "name": "stdout",
     "output_type": "stream",
     "text": [
      "<-----Features with Low Correlation Value----->\n",
      "URL_Type_obf_Type and charcompvowels with Correlation -0.02\n",
      "URL_Type_obf_Type and charcompace with Correlation 0.03\n",
      "URL_Type_obf_Type and ldl_url with Correlation -0.01\n",
      "URL_Type_obf_Type and ldl_path with Correlation -0.02\n",
      "URL_Type_obf_Type and dld_url with Correlation 0.05\n",
      "URL_Type_obf_Type and dld_domain with Correlation -0.01\n",
      "URL_Type_obf_Type and dld_path with Correlation 0.05\n",
      "URL_Type_obf_Type and dld_filename with Correlation 0.1\n",
      "URL_Type_obf_Type and dld_getArg with Correlation -0.09\n",
      "URL_Type_obf_Type and pathLength with Correlation -0.01\n",
      "URL_Type_obf_Type and subDirLen with Correlation -0.01\n",
      "URL_Type_obf_Type and this.fileExtLen with Correlation 0.09\n",
      "URL_Type_obf_Type and executable with Correlation nan\n",
      "URL_Type_obf_Type and isPortEighty with Correlation -0.01\n",
      "URL_Type_obf_Type and ISIpAddressInDomainName with Correlation nan\n",
      "URL_Type_obf_Type and host_DigitCount with Correlation -0.02\n",
      "URL_Type_obf_Type and URL_sensitiveWord with Correlation -0.0\n",
      "URL_Type_obf_Type and NumberRate_Domain with Correlation -0.02\n",
      "URL_Type_obf_Type and NumberRate_DirectoryName with Correlation 0.04\n",
      "URL_Type_obf_Type and NumberRate_FileName with Correlation -0.04\n",
      "<---------------------------------------------->\n",
      "<-----Features with High Correlation Value----->\n",
      "Querylength and ArgLen with Correlation 0.96\n",
      "Querylength and argDomanRatio with Correlation 0.87\n",
      "Querylength and LongestVariableValue with Correlation 0.93\n",
      "Querylength and Query_LetterCount with Correlation 0.99\n",
      "path_token_count and delimeter_path with Correlation 0.83\n",
      "avgdomaintokenlen and longdomaintokenlen with Correlation 0.89\n",
      "longdomaintokenlen and domainlength with Correlation 0.89\n",
      "longdomaintokenlen and host_letter_count with Correlation 0.9\n",
      "charcompvowels and charcompace with Correlation 0.93\n",
      "charcompvowels and urlLen with Correlation 0.88\n",
      "charcompvowels and pathLength with Correlation 0.88\n",
      "charcompvowels and subDirLen with Correlation 0.88\n",
      "charcompvowels and URL_Letter_Count with Correlation 0.89\n",
      "charcompvowels and LongestPathTokenLength with Correlation 0.81\n",
      "charcompace and urlLen with Correlation 0.85\n",
      "charcompace and pathLength with Correlation 0.86\n",
      "charcompace and subDirLen with Correlation 0.86\n",
      "charcompace and URL_Letter_Count with Correlation 0.86\n",
      "ldl_url and ldl_path with Correlation 1.0\n",
      "ldl_url and ldl_getArg with Correlation 0.9\n",
      "ldl_url and LongestVariableValue with Correlation 0.8\n",
      "ldl_path and ldl_getArg with Correlation 0.9\n",
      "ldl_path and LongestVariableValue with Correlation 0.81\n",
      "ldl_filename and dld_filename with Correlation 0.94\n",
      "ldl_getArg and LongestVariableValue with Correlation 0.82\n",
      "dld_url and dld_path with Correlation 1.0\n",
      "urlLen and pathLength with Correlation 0.99\n",
      "urlLen and subDirLen with Correlation 0.99\n",
      "urlLen and URL_Letter_Count with Correlation 0.98\n",
      "urlLen and Extension_LetterCount with Correlation 0.8\n",
      "urlLen and LongestPathTokenLength with Correlation 0.92\n",
      "domainlength and host_letter_count with Correlation 0.98\n",
      "pathLength and URL_Letter_Count with Correlation 0.95\n",
      "pathLength and LongestPathTokenLength with Correlation 0.92\n",
      "subDirLen and URL_Letter_Count with Correlation 0.95\n",
      "subDirLen and LongestPathTokenLength with Correlation 0.92\n",
      "ArgLen and ArgUrlRatio with Correlation 0.91\n",
      "ArgLen and argDomanRatio with Correlation 0.93\n",
      "ArgLen and argPathRatio with Correlation 0.84\n",
      "ArgLen and LongestVariableValue with Correlation 0.81\n",
      "ArgLen and Query_LetterCount with Correlation 0.94\n",
      "ArgLen and URLQueries_variable with Correlation 0.85\n",
      "ArgLen and delimeter_Count with Correlation 0.85\n",
      "ArgLen and SymbolCount_URL with Correlation 0.84\n",
      "ArgLen and SymbolCount_FileName with Correlation 0.8\n",
      "ArgLen and SymbolCount_Afterpath with Correlation 0.82\n",
      "pathurlRatio and pathDomainRatio with Correlation 0.8\n",
      "ArgUrlRatio and argDomanRatio with Correlation 0.88\n",
      "ArgUrlRatio and argPathRatio with Correlation 0.98\n",
      "ArgUrlRatio and Arguments_LongestWordLength with Correlation 0.88\n",
      "ArgUrlRatio and URLQueries_variable with Correlation 0.94\n",
      "ArgUrlRatio and delimeter_Count with Correlation 0.94\n",
      "ArgUrlRatio and SymbolCount_URL with Correlation 0.88\n",
      "ArgUrlRatio and SymbolCount_FileName with Correlation 0.89\n",
      "ArgUrlRatio and SymbolCount_Extension with Correlation 0.87\n",
      "ArgUrlRatio and SymbolCount_Afterpath with Correlation 0.9\n",
      "argDomanRatio and argPathRatio with Correlation 0.81\n",
      "argDomanRatio and Query_LetterCount with Correlation 0.85\n",
      "argDomanRatio and delimeter_Count with Correlation 0.81\n",
      "argDomanRatio and SymbolCount_Afterpath with Correlation 0.8\n",
      "argPathRatio and Arguments_LongestWordLength with Correlation 0.87\n",
      "argPathRatio and URLQueries_variable with Correlation 0.92\n",
      "argPathRatio and delimeter_Count with Correlation 0.92\n",
      "argPathRatio and NumberRate_AfterPath with Correlation 0.81\n",
      "argPathRatio and SymbolCount_URL with Correlation 0.85\n",
      "argPathRatio and SymbolCount_FileName with Correlation 0.88\n",
      "argPathRatio and SymbolCount_Extension with Correlation 0.85\n",
      "argPathRatio and SymbolCount_Afterpath with Correlation 0.88\n",
      "argPathRatio and Entropy_Afterpath with Correlation 0.83\n",
      "LongestVariableValue and Query_LetterCount with Correlation 0.92\n",
      "URL_DigitCount and NumberRate_URL with Correlation 0.83\n",
      "host_DigitCount and NumberRate_Domain with Correlation 0.98\n",
      "Extension_DigitCount and Query_DigitCount with Correlation 0.84\n",
      "URL_Letter_Count and Extension_LetterCount with Correlation 0.82\n",
      "URL_Letter_Count and LongestPathTokenLength with Correlation 0.91\n",
      "host_letter_count and Domain_LongestWordLength with Correlation 0.81\n",
      "Extension_LetterCount and LongestPathTokenLength with Correlation 0.88\n",
      "Path_LongestWordLength and sub-Directory_LongestWordLength with Correlation 0.8\n",
      "Arguments_LongestWordLength and URLQueries_variable with Correlation 0.86\n",
      "Arguments_LongestWordLength and delimeter_Count with Correlation 0.85\n",
      "URLQueries_variable and delimeter_Count with Correlation 1.0\n",
      "URLQueries_variable and SymbolCount_URL with Correlation 0.93\n",
      "URLQueries_variable and SymbolCount_FileName with Correlation 0.91\n",
      "URLQueries_variable and SymbolCount_Extension with Correlation 0.9\n",
      "URLQueries_variable and SymbolCount_Afterpath with Correlation 0.93\n",
      "spcharUrl and SymbolCount_Directoryname with Correlation 0.88\n",
      "delimeter_Count and SymbolCount_URL with Correlation 0.93\n",
      "delimeter_Count and SymbolCount_FileName with Correlation 0.92\n",
      "delimeter_Count and SymbolCount_Extension with Correlation 0.9\n",
      "delimeter_Count and SymbolCount_Afterpath with Correlation 0.93\n",
      "NumberRate_DirectoryName and Entropy_Filename with Correlation 0.83\n",
      "NumberRate_FileName and Entropy_Filename with Correlation 0.82\n",
      "NumberRate_AfterPath and Entropy_Afterpath with Correlation 0.99\n",
      "SymbolCount_URL and SymbolCount_FileName with Correlation 0.9\n",
      "SymbolCount_URL and SymbolCount_Extension with Correlation 0.89\n",
      "SymbolCount_URL and SymbolCount_Afterpath with Correlation 0.92\n",
      "SymbolCount_FileName and SymbolCount_Extension with Correlation 0.98\n",
      "SymbolCount_FileName and SymbolCount_Afterpath with Correlation 0.99\n",
      "SymbolCount_Extension and SymbolCount_Afterpath with Correlation 0.97\n"
     ]
    },
    {
     "name": "stderr",
     "output_type": "stream",
     "text": [
      "C:\\Users\\deban\\anaconda3\\lib\\site-packages\\pandas\\core\\indexes\\base.py:4111: FutureWarning: Using a non-tuple sequence for multidimensional indexing is deprecated; use `arr[tuple(seq)]` instead of `arr[seq]`. In the future this will be interpreted as an array index, `arr[np.array(seq)]`, which will result either in an error or a different result.\n",
      "  result = getitem(key)\n"
     ]
    }
   ],
   "source": [
    "# Removing all the columns with correlation almost equal to 0 ->\n",
    " # Which shows no impact on the O/P variable and the features with High Correlation      \n",
    "\n",
    "print(\"<-----Features with Low Correlation Value----->\") \n",
    "index_defacement_lowcorr=columns_lowcorr(corr, defacement_columns)\n",
    "print(\"<---------------------------------------------->\")\n",
    "print(\"<-----Features with High Correlation Value----->\") \n",
    "index_defacement_highcorr=columns_highcorr(corr, defacement_columns)\n",
    "index_defacement=final_index(index_defacement_lowcorr, index_defacement_highcorr)\n",
    "\n",
    "defacement3=defacement1.drop(columns=defacement_columns[[index_defacement]])\n",
    "            \n",
    "defacement2, scaler=dataset_scaling(defacement3) # Scaling the Dataset\n",
    "defacement2=pd.DataFrame(defacement2,columns=defacement3.columns)"
   ]
  },
  {
   "cell_type": "code",
   "execution_count": 40,
   "metadata": {},
   "outputs": [],
   "source": [
    "# Principal Component Analysis\n",
    "\n",
    "# Separating the input and output features\n",
    "X=defacement2.loc[:, defacement2.columns!=\"URL_Type_obf_Type\"]\n",
    "y=defacement2[\"URL_Type_obf_Type\"]\n",
    "\n",
    "# Let's say, components = 10\n",
    "pca = PCA(n_components = 10)\n",
    "pca.fit(X)\n",
    "X_pca = pca.transform(X)"
   ]
  },
  {
   "cell_type": "code",
   "execution_count": 41,
   "metadata": {},
   "outputs": [],
   "source": [
    "# Splitting the samples\n",
    "train_x, test_x, train_y, test_y=train_test_split(X_pca, y, random_state=0, test_size=0.25)"
   ]
  },
  {
   "cell_type": "code",
   "execution_count": 42,
   "metadata": {},
   "outputs": [
    {
     "name": "stdout",
     "output_type": "stream",
     "text": [
      "0.6296553611755371\n"
     ]
    }
   ],
   "source": [
    "# Machine Learning Models\n",
    "start = time.time()\n",
    "svm=SVC()\n",
    "svm.fit(train_x, train_y)\n",
    "predicted_test=svm.predict(test_x)\n",
    "y_score_defacement = svm.decision_function(test_x)\n",
    "end = time.time()\n",
    "print((end-start)) # Prints Time taken by the Model to train and execute the samples in seconds"
   ]
  },
  {
   "cell_type": "code",
   "execution_count": 43,
   "metadata": {},
   "outputs": [],
   "source": [
    "# Predicting the Output\n",
    "predicted_train=svm.predict(train_x)"
   ]
  },
  {
   "cell_type": "code",
   "execution_count": 44,
   "metadata": {},
   "outputs": [
    {
     "data": {
      "text/plain": [
       "96.61498708010335"
      ]
     },
     "execution_count": 44,
     "metadata": {},
     "output_type": "execute_result"
    }
   ],
   "source": [
    "# Performance Metrics\n",
    "accuracy_score(test_y, predicted_test) * 100 # 96.61% for testing"
   ]
  },
  {
   "cell_type": "code",
   "execution_count": 45,
   "metadata": {},
   "outputs": [
    {
     "data": {
      "text/plain": [
       "96.63134315499268"
      ]
     },
     "execution_count": 45,
     "metadata": {},
     "output_type": "execute_result"
    }
   ],
   "source": [
    "accuracy_score(train_y, predicted_train) * 100 # 96.63% for training"
   ]
  },
  {
   "cell_type": "code",
   "execution_count": 46,
   "metadata": {},
   "outputs": [
    {
     "name": "stdout",
     "output_type": "stream",
     "text": [
      "Confusion matrix : \n",
      " [[5602  111]\n",
      " [ 280 5614]]\n",
      "Outcome values : \n",
      " 5602 111 280 5614\n",
      "Classification report : \n",
      "               precision    recall  f1-score   support\n",
      "\n",
      "           1       0.95      0.98      0.97      5713\n",
      "           0       0.98      0.95      0.97      5894\n",
      "\n",
      "    accuracy                           0.97     11607\n",
      "   macro avg       0.97      0.97      0.97     11607\n",
      "weighted avg       0.97      0.97      0.97     11607\n",
      "\n"
     ]
    }
   ],
   "source": [
    "# confusion matrix\n",
    "matrix = confusion_matrix(train_y,predicted_train,labels=[1,0])\n",
    "print('Confusion matrix : \\n',matrix)\n",
    "\n",
    "# outcome values order in sklearn\n",
    "tp, fn, fp, tn = confusion_matrix(train_y,predicted_train,labels=[1,0]).reshape(-1)\n",
    "print('Outcome values : \\n', tp, fn, fp, tn)\n",
    "\n",
    "# classification report for precision, recall f1-score and accuracy\n",
    "matrix = classification_report(train_y,predicted_train,labels=[1,0])\n",
    "print('Classification report : \\n',matrix)"
   ]
  },
  {
   "cell_type": "code",
   "execution_count": 47,
   "metadata": {},
   "outputs": [
    {
     "data": {
      "text/plain": [
       "Text(0.5, 1.0, '2-class Precision-Recall curve: AP=0.99')"
      ]
     },
     "execution_count": 47,
     "metadata": {},
     "output_type": "execute_result"
    },
    {
     "data": {
      "image/png": "[encoded data removed]",
      "text/plain": [
       "<Figure size 432x288 with 1 Axes>"
      ]
     },
     "metadata": {
      "needs_background": "light"
     },
     "output_type": "display_data"
    }
   ],
   "source": [
    "average_precision = average_precision_score(test_y, y_score_defacement)\n",
    "disp = plot_precision_recall_curve(svm, test_x, test_y)\n",
    "disp.ax_.set_title('2-class Precision-Recall curve: '\n",
    "                   'AP={0:0.2f}'.format(average_precision))"
   ]
  },
  {
   "cell_type": "markdown",
   "metadata": {},
   "source": [
    "### When we try to reduce the n_components value of PCA the accuracy score is also getting reduced. Hence, better value is chosen to capture the variability of the features."
   ]
  },
  {
   "cell_type": "markdown",
   "metadata": {},
   "source": [
    "### <---------------------- THE END -----------------------> ###"
   ]
  },
  {
   "cell_type": "code",
   "execution_count": null,
   "metadata": {},
   "outputs": [],
   "source": []
  }
 ],
 "metadata": {
  "kernelspec": {
   "display_name": "Python 3",
   "language": "python",
   "name": "python3"
  },
  "language_info": {
   "codemirror_mode": {
    "name": "ipython",
    "version": 3
   },
   "file_extension": ".py",
   "mimetype": "text/x-python",
   "name": "python",
   "nbconvert_exporter": "python",
   "pygments_lexer": "ipython3",
   "version": "3.8.5"
  }
 },
 "nbformat": 4,
 "nbformat_minor": 4
}
